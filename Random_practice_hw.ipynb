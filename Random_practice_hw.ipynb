{
 "cells": [
  {
   "cell_type": "markdown",
   "metadata": {},
   "source": [
    "Домашнее задание к лекции «Случайные события. Случайные величины»"
   ]
  },
  {
   "cell_type": "code",
   "execution_count": 14,
   "metadata": {},
   "outputs": [],
   "source": [
    "import numpy as np "
   ]
  },
  {
   "cell_type": "markdown",
   "metadata": {},
   "source": [
    "Домашнее задание\n",
    "Смоделировать игру против лотерейного автомата типа \"777\". \n",
    "Игрок платит 1 руб., после чего выпадает случайное целое число, равномерно распределенное от 0 до 999. \n",
    "При некоторых значениях числа игрок получает выигрыш\n",
    "\n",
    "Сколько в среднем выигрывает или теряет игрок за одну игру?? "
   ]
  },
  {
   "cell_type": "code",
   "execution_count": 22,
   "metadata": {},
   "outputs": [
    {
     "name": "stdout",
     "output_type": "stream",
     "text": [
      "средний выигрыш: 0.803752\n"
     ]
    }
   ],
   "source": [
    "np.random.seed(None)\n",
    "attempts = 1000000 # количество попыток \n",
    "money = 0 # выйгрыш при удачной попытке \n",
    "\n",
    "for i in range(attempts):\n",
    "    random_point = np.random.randint(0, 1000) # генерация случайного числа в диапазоне от 0 до 999\n",
    "    \n",
    "    if random_point == 777:\n",
    "        money += 200\n",
    "    elif random_point == 999:\n",
    "        money += 100\n",
    "    elif random_point == 555:\n",
    "        money += 50\n",
    "    elif random_point == 333:\n",
    "        money += 15\n",
    "    elif random_point == 111:\n",
    "        money += 10\n",
    "    elif random_point % 100 == 77:\n",
    "        money += 5\n",
    "    elif random_point % 10 == 7:\n",
    "        money += 3\n",
    "    elif random_point % 100 == 0:\n",
    "        money += 2\n",
    "    elif random_point % 10 == 0:\n",
    "        money += 1\n",
    "\n",
    "print('средний выигрыш:', money/attempts)"
   ]
  },
  {
   "cell_type": "code",
   "execution_count": 20,
   "metadata": {},
   "outputs": [
    {
     "name": "stdout",
     "output_type": "stream",
     "text": [
      "0.8450000000000001\n"
     ]
    }
   ],
   "source": [
    "# теоретический расчёт среднего выйгрыша \n",
    "\n",
    "prob_3 = 1/1000\n",
    "prob_2 = 1/100\n",
    "prob_1 = 1/10\n",
    "\n",
    "prob_mean = 200*prob_3 + 100*prob_3 + 50*prob_3 + 15*prob_3 + 10*prob_3 + 5*prob_2 + 2*prob_2 + 3*prob_1 + 1*prob_1\n",
    "print(prob_mean)"
   ]
  },
  {
   "cell_type": "markdown",
   "metadata": {},
   "source": [
    "Саму формулу нахождения полной вероятности более менее освоить удалось. Но конкретно в этой задаче чувствую, что какие-то нюансы я не учла при нахождении произведений. Буду благодарна, если подскажете по коду выше. \n"
   ]
  }
 ],
 "metadata": {
  "kernelspec": {
   "display_name": "Python 3",
   "language": "python",
   "name": "python3"
  },
  "language_info": {
   "codemirror_mode": {
    "name": "ipython",
    "version": 3
   },
   "file_extension": ".py",
   "mimetype": "text/x-python",
   "name": "python",
   "nbconvert_exporter": "python",
   "pygments_lexer": "ipython3",
   "version": "3.8.5"
  }
 },
 "nbformat": 4,
 "nbformat_minor": 4
}
