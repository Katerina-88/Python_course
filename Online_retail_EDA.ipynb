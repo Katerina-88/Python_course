{
 "cells": [
  {
   "cell_type": "markdown",
   "metadata": {},
   "source": [
    "Content\n",
    "\n",
    "This is a transnational data set which contains all the transactions occurring between 01/12/2010 and 09/12/2011 for a UK-based and registered non-store online retail.The company mainly sells unique all-occasion gifts. Many customers of the company are wholesalers.\n",
    "Based on this analysis, I develop a model that allows to anticipate the purchases that will be made by a new customer, during the following 3 month."
   ]
  },
  {
   "cell_type": "markdown",
   "metadata": {},
   "source": [
    "This dataframe contains 8 variables that correspond to:  \n",
    "\n",
    "InvoiceNo: Invoice number. Nominal, a 6-digit integral number uniquely assigned to each transaction. \n",
    "If this code starts with letter 'c', it indicates a cancellation.  \n",
    "\n",
    "StockCode: Product (item) code. Nominal, a 5-digit integral number uniquely assigned to each distinct product.  \n",
    "\n",
    "Description: Product (item) name. Nominal.  \n",
    "\n",
    "Quantity: The quantities of each product (item) per transaction. Numeric.  \n",
    "\n",
    "InvoiceDate: Invice Date and time. Numeric, the day and time when each transaction was generated.  \n",
    "\n",
    "UnitPrice: Unit price. Numeric, Product price per unit in sterling.  \n",
    "\n",
    "CustomerID: Customer number. Nominal, a 5-digit integral number uniquely assigned to each customer.  \n",
    "\n",
    "Country: Country name. Nominal, the name of the country where each customer resides."
   ]
  },
  {
   "cell_type": "code",
   "execution_count": 1,
   "metadata": {},
   "outputs": [],
   "source": [
    "import numpy as np\n",
    "import datetime as dt\n",
    "import pandas as pd\n",
    "import seaborn as sns\n",
    "sns.set(rc={'figure.figsize': (16,6)}, style = 'whitegrid')\n",
    "import matplotlib.pyplot as plt\n",
    "\n",
    "import warnings\n",
    "warnings.filterwarnings('ignore')\n"
   ]
  },
  {
   "cell_type": "code",
   "execution_count": 2,
   "metadata": {
    "scrolled": false
   },
   "outputs": [],
   "source": [
    "retail = pd.read_csv('data.csv', encoding = 'ISO-8859-1')"
   ]
  },
  {
   "cell_type": "markdown",
   "metadata": {},
   "source": [
    "# Data preprocessing"
   ]
  },
  {
   "cell_type": "code",
   "execution_count": 3,
   "metadata": {
    "scrolled": false
   },
   "outputs": [
    {
     "data": {
      "text/html": [
       "<div>\n",
       "<style scoped>\n",
       "    .dataframe tbody tr th:only-of-type {\n",
       "        vertical-align: middle;\n",
       "    }\n",
       "\n",
       "    .dataframe tbody tr th {\n",
       "        vertical-align: top;\n",
       "    }\n",
       "\n",
       "    .dataframe thead th {\n",
       "        text-align: right;\n",
       "    }\n",
       "</style>\n",
       "<table border=\"1\" class=\"dataframe\">\n",
       "  <thead>\n",
       "    <tr style=\"text-align: right;\">\n",
       "      <th></th>\n",
       "      <th>InvoiceNo</th>\n",
       "      <th>StockCode</th>\n",
       "      <th>Description</th>\n",
       "      <th>Quantity</th>\n",
       "      <th>InvoiceDate</th>\n",
       "      <th>UnitPrice</th>\n",
       "      <th>CustomerID</th>\n",
       "      <th>Country</th>\n",
       "    </tr>\n",
       "  </thead>\n",
       "  <tbody>\n",
       "    <tr>\n",
       "      <th>0</th>\n",
       "      <td>536365</td>\n",
       "      <td>85123A</td>\n",
       "      <td>WHITE HANGING HEART T-LIGHT HOLDER</td>\n",
       "      <td>6</td>\n",
       "      <td>12/1/2010 8:26</td>\n",
       "      <td>2.55</td>\n",
       "      <td>17850.0</td>\n",
       "      <td>United Kingdom</td>\n",
       "    </tr>\n",
       "    <tr>\n",
       "      <th>1</th>\n",
       "      <td>536365</td>\n",
       "      <td>71053</td>\n",
       "      <td>WHITE METAL LANTERN</td>\n",
       "      <td>6</td>\n",
       "      <td>12/1/2010 8:26</td>\n",
       "      <td>3.39</td>\n",
       "      <td>17850.0</td>\n",
       "      <td>United Kingdom</td>\n",
       "    </tr>\n",
       "    <tr>\n",
       "      <th>2</th>\n",
       "      <td>536365</td>\n",
       "      <td>84406B</td>\n",
       "      <td>CREAM CUPID HEARTS COAT HANGER</td>\n",
       "      <td>8</td>\n",
       "      <td>12/1/2010 8:26</td>\n",
       "      <td>2.75</td>\n",
       "      <td>17850.0</td>\n",
       "      <td>United Kingdom</td>\n",
       "    </tr>\n",
       "    <tr>\n",
       "      <th>3</th>\n",
       "      <td>536365</td>\n",
       "      <td>84029G</td>\n",
       "      <td>KNITTED UNION FLAG HOT WATER BOTTLE</td>\n",
       "      <td>6</td>\n",
       "      <td>12/1/2010 8:26</td>\n",
       "      <td>3.39</td>\n",
       "      <td>17850.0</td>\n",
       "      <td>United Kingdom</td>\n",
       "    </tr>\n",
       "    <tr>\n",
       "      <th>4</th>\n",
       "      <td>536365</td>\n",
       "      <td>84029E</td>\n",
       "      <td>RED WOOLLY HOTTIE WHITE HEART.</td>\n",
       "      <td>6</td>\n",
       "      <td>12/1/2010 8:26</td>\n",
       "      <td>3.39</td>\n",
       "      <td>17850.0</td>\n",
       "      <td>United Kingdom</td>\n",
       "    </tr>\n",
       "  </tbody>\n",
       "</table>\n",
       "</div>"
      ],
      "text/plain": [
       "  InvoiceNo StockCode                          Description  Quantity  \\\n",
       "0    536365    85123A   WHITE HANGING HEART T-LIGHT HOLDER         6   \n",
       "1    536365     71053                  WHITE METAL LANTERN         6   \n",
       "2    536365    84406B       CREAM CUPID HEARTS COAT HANGER         8   \n",
       "3    536365    84029G  KNITTED UNION FLAG HOT WATER BOTTLE         6   \n",
       "4    536365    84029E       RED WOOLLY HOTTIE WHITE HEART.         6   \n",
       "\n",
       "      InvoiceDate  UnitPrice  CustomerID         Country  \n",
       "0  12/1/2010 8:26       2.55     17850.0  United Kingdom  \n",
       "1  12/1/2010 8:26       3.39     17850.0  United Kingdom  \n",
       "2  12/1/2010 8:26       2.75     17850.0  United Kingdom  \n",
       "3  12/1/2010 8:26       3.39     17850.0  United Kingdom  \n",
       "4  12/1/2010 8:26       3.39     17850.0  United Kingdom  "
      ]
     },
     "execution_count": 3,
     "metadata": {},
     "output_type": "execute_result"
    }
   ],
   "source": [
    "retail.head()"
   ]
  },
  {
   "cell_type": "code",
   "execution_count": 4,
   "metadata": {},
   "outputs": [],
   "source": [
    "retail['Description']=retail.Description.str.lower()"
   ]
  },
  {
   "cell_type": "code",
   "execution_count": 5,
   "metadata": {
    "scrolled": true
   },
   "outputs": [
    {
     "data": {
      "text/plain": [
       "(541909, 8)"
      ]
     },
     "execution_count": 5,
     "metadata": {},
     "output_type": "execute_result"
    }
   ],
   "source": [
    "retail.shape"
   ]
  },
  {
   "cell_type": "code",
   "execution_count": 6,
   "metadata": {
    "scrolled": true
   },
   "outputs": [
    {
     "data": {
      "text/html": [
       "<div>\n",
       "<style scoped>\n",
       "    .dataframe tbody tr th:only-of-type {\n",
       "        vertical-align: middle;\n",
       "    }\n",
       "\n",
       "    .dataframe tbody tr th {\n",
       "        vertical-align: top;\n",
       "    }\n",
       "\n",
       "    .dataframe thead th {\n",
       "        text-align: right;\n",
       "    }\n",
       "</style>\n",
       "<table border=\"1\" class=\"dataframe\">\n",
       "  <thead>\n",
       "    <tr style=\"text-align: right;\">\n",
       "      <th></th>\n",
       "      <th>Quantity</th>\n",
       "      <th>UnitPrice</th>\n",
       "      <th>CustomerID</th>\n",
       "    </tr>\n",
       "  </thead>\n",
       "  <tbody>\n",
       "    <tr>\n",
       "      <th>count</th>\n",
       "      <td>541909.000000</td>\n",
       "      <td>541909.000000</td>\n",
       "      <td>406829.000000</td>\n",
       "    </tr>\n",
       "    <tr>\n",
       "      <th>mean</th>\n",
       "      <td>9.552250</td>\n",
       "      <td>4.611114</td>\n",
       "      <td>15287.690570</td>\n",
       "    </tr>\n",
       "    <tr>\n",
       "      <th>std</th>\n",
       "      <td>218.081158</td>\n",
       "      <td>96.759853</td>\n",
       "      <td>1713.600303</td>\n",
       "    </tr>\n",
       "    <tr>\n",
       "      <th>min</th>\n",
       "      <td>-80995.000000</td>\n",
       "      <td>-11062.060000</td>\n",
       "      <td>12346.000000</td>\n",
       "    </tr>\n",
       "    <tr>\n",
       "      <th>25%</th>\n",
       "      <td>1.000000</td>\n",
       "      <td>1.250000</td>\n",
       "      <td>13953.000000</td>\n",
       "    </tr>\n",
       "    <tr>\n",
       "      <th>50%</th>\n",
       "      <td>3.000000</td>\n",
       "      <td>2.080000</td>\n",
       "      <td>15152.000000</td>\n",
       "    </tr>\n",
       "    <tr>\n",
       "      <th>75%</th>\n",
       "      <td>10.000000</td>\n",
       "      <td>4.130000</td>\n",
       "      <td>16791.000000</td>\n",
       "    </tr>\n",
       "    <tr>\n",
       "      <th>max</th>\n",
       "      <td>80995.000000</td>\n",
       "      <td>38970.000000</td>\n",
       "      <td>18287.000000</td>\n",
       "    </tr>\n",
       "  </tbody>\n",
       "</table>\n",
       "</div>"
      ],
      "text/plain": [
       "            Quantity      UnitPrice     CustomerID\n",
       "count  541909.000000  541909.000000  406829.000000\n",
       "mean        9.552250       4.611114   15287.690570\n",
       "std       218.081158      96.759853    1713.600303\n",
       "min    -80995.000000  -11062.060000   12346.000000\n",
       "25%         1.000000       1.250000   13953.000000\n",
       "50%         3.000000       2.080000   15152.000000\n",
       "75%        10.000000       4.130000   16791.000000\n",
       "max     80995.000000   38970.000000   18287.000000"
      ]
     },
     "execution_count": 6,
     "metadata": {},
     "output_type": "execute_result"
    }
   ],
   "source": [
    "retail.describe()"
   ]
  },
  {
   "cell_type": "code",
   "execution_count": 7,
   "metadata": {
    "scrolled": false
   },
   "outputs": [
    {
     "data": {
      "text/html": [
       "<div>\n",
       "<style scoped>\n",
       "    .dataframe tbody tr th:only-of-type {\n",
       "        vertical-align: middle;\n",
       "    }\n",
       "\n",
       "    .dataframe tbody tr th {\n",
       "        vertical-align: top;\n",
       "    }\n",
       "\n",
       "    .dataframe thead th {\n",
       "        text-align: right;\n",
       "    }\n",
       "</style>\n",
       "<table border=\"1\" class=\"dataframe\">\n",
       "  <thead>\n",
       "    <tr style=\"text-align: right;\">\n",
       "      <th></th>\n",
       "      <th>InvoiceNo</th>\n",
       "      <th>StockCode</th>\n",
       "      <th>Description</th>\n",
       "      <th>Quantity</th>\n",
       "      <th>InvoiceDate</th>\n",
       "      <th>UnitPrice</th>\n",
       "      <th>CustomerID</th>\n",
       "      <th>Country</th>\n",
       "    </tr>\n",
       "  </thead>\n",
       "  <tbody>\n",
       "    <tr>\n",
       "      <th>299983</th>\n",
       "      <td>A563186</td>\n",
       "      <td>B</td>\n",
       "      <td>adjust bad debt</td>\n",
       "      <td>1</td>\n",
       "      <td>8/12/2011 14:51</td>\n",
       "      <td>-11062.06</td>\n",
       "      <td>NaN</td>\n",
       "      <td>United Kingdom</td>\n",
       "    </tr>\n",
       "    <tr>\n",
       "      <th>299984</th>\n",
       "      <td>A563187</td>\n",
       "      <td>B</td>\n",
       "      <td>adjust bad debt</td>\n",
       "      <td>1</td>\n",
       "      <td>8/12/2011 14:52</td>\n",
       "      <td>-11062.06</td>\n",
       "      <td>NaN</td>\n",
       "      <td>United Kingdom</td>\n",
       "    </tr>\n",
       "  </tbody>\n",
       "</table>\n",
       "</div>"
      ],
      "text/plain": [
       "       InvoiceNo StockCode      Description  Quantity      InvoiceDate  \\\n",
       "299983   A563186         B  adjust bad debt         1  8/12/2011 14:51   \n",
       "299984   A563187         B  adjust bad debt         1  8/12/2011 14:52   \n",
       "\n",
       "        UnitPrice  CustomerID         Country  \n",
       "299983  -11062.06         NaN  United Kingdom  \n",
       "299984  -11062.06         NaN  United Kingdom  "
      ]
     },
     "execution_count": 7,
     "metadata": {},
     "output_type": "execute_result"
    }
   ],
   "source": [
    "retail[retail.UnitPrice < 0]"
   ]
  },
  {
   "cell_type": "code",
   "execution_count": 8,
   "metadata": {
    "scrolled": true
   },
   "outputs": [
    {
     "data": {
      "text/plain": [
       "InvoiceNo      0.000000\n",
       "StockCode      0.000000\n",
       "Description    0.002683\n",
       "Quantity       0.000000\n",
       "InvoiceDate    0.000000\n",
       "UnitPrice      0.000000\n",
       "CustomerID     0.249267\n",
       "Country        0.000000\n",
       "dtype: float64"
      ]
     },
     "execution_count": 8,
     "metadata": {},
     "output_type": "execute_result"
    }
   ],
   "source": [
    "# check the amount of missing values \n",
    "retail.isna().mean()"
   ]
  },
  {
   "cell_type": "code",
   "execution_count": 9,
   "metadata": {
    "scrolled": true
   },
   "outputs": [
    {
     "data": {
      "text/html": [
       "<div>\n",
       "<style scoped>\n",
       "    .dataframe tbody tr th:only-of-type {\n",
       "        vertical-align: middle;\n",
       "    }\n",
       "\n",
       "    .dataframe tbody tr th {\n",
       "        vertical-align: top;\n",
       "    }\n",
       "\n",
       "    .dataframe thead th {\n",
       "        text-align: right;\n",
       "    }\n",
       "</style>\n",
       "<table border=\"1\" class=\"dataframe\">\n",
       "  <thead>\n",
       "    <tr style=\"text-align: right;\">\n",
       "      <th></th>\n",
       "      <th>InvoiceNo</th>\n",
       "      <th>StockCode</th>\n",
       "      <th>Description</th>\n",
       "      <th>Quantity</th>\n",
       "      <th>InvoiceDate</th>\n",
       "      <th>UnitPrice</th>\n",
       "      <th>CustomerID</th>\n",
       "      <th>Country</th>\n",
       "    </tr>\n",
       "  </thead>\n",
       "  <tbody>\n",
       "    <tr>\n",
       "      <th>622</th>\n",
       "      <td>536414</td>\n",
       "      <td>22139</td>\n",
       "      <td>NaN</td>\n",
       "      <td>56</td>\n",
       "      <td>12/1/2010 11:52</td>\n",
       "      <td>0.00</td>\n",
       "      <td>NaN</td>\n",
       "      <td>United Kingdom</td>\n",
       "    </tr>\n",
       "    <tr>\n",
       "      <th>1443</th>\n",
       "      <td>536544</td>\n",
       "      <td>21773</td>\n",
       "      <td>decorative rose bathroom bottle</td>\n",
       "      <td>1</td>\n",
       "      <td>12/1/2010 14:32</td>\n",
       "      <td>2.51</td>\n",
       "      <td>NaN</td>\n",
       "      <td>United Kingdom</td>\n",
       "    </tr>\n",
       "    <tr>\n",
       "      <th>1444</th>\n",
       "      <td>536544</td>\n",
       "      <td>21774</td>\n",
       "      <td>decorative cats bathroom bottle</td>\n",
       "      <td>2</td>\n",
       "      <td>12/1/2010 14:32</td>\n",
       "      <td>2.51</td>\n",
       "      <td>NaN</td>\n",
       "      <td>United Kingdom</td>\n",
       "    </tr>\n",
       "    <tr>\n",
       "      <th>1445</th>\n",
       "      <td>536544</td>\n",
       "      <td>21786</td>\n",
       "      <td>polkadot rain hat</td>\n",
       "      <td>4</td>\n",
       "      <td>12/1/2010 14:32</td>\n",
       "      <td>0.85</td>\n",
       "      <td>NaN</td>\n",
       "      <td>United Kingdom</td>\n",
       "    </tr>\n",
       "    <tr>\n",
       "      <th>1446</th>\n",
       "      <td>536544</td>\n",
       "      <td>21787</td>\n",
       "      <td>rain poncho retrospot</td>\n",
       "      <td>2</td>\n",
       "      <td>12/1/2010 14:32</td>\n",
       "      <td>1.66</td>\n",
       "      <td>NaN</td>\n",
       "      <td>United Kingdom</td>\n",
       "    </tr>\n",
       "  </tbody>\n",
       "</table>\n",
       "</div>"
      ],
      "text/plain": [
       "     InvoiceNo StockCode                      Description  Quantity  \\\n",
       "622     536414     22139                              NaN        56   \n",
       "1443    536544     21773  decorative rose bathroom bottle         1   \n",
       "1444    536544     21774  decorative cats bathroom bottle         2   \n",
       "1445    536544     21786               polkadot rain hat          4   \n",
       "1446    536544     21787            rain poncho retrospot         2   \n",
       "\n",
       "          InvoiceDate  UnitPrice  CustomerID         Country  \n",
       "622   12/1/2010 11:52       0.00         NaN  United Kingdom  \n",
       "1443  12/1/2010 14:32       2.51         NaN  United Kingdom  \n",
       "1444  12/1/2010 14:32       2.51         NaN  United Kingdom  \n",
       "1445  12/1/2010 14:32       0.85         NaN  United Kingdom  \n",
       "1446  12/1/2010 14:32       1.66         NaN  United Kingdom  "
      ]
     },
     "execution_count": 9,
     "metadata": {},
     "output_type": "execute_result"
    }
   ],
   "source": [
    "retail[retail.CustomerID.isna()].head()"
   ]
  },
  {
   "cell_type": "code",
   "execution_count": 10,
   "metadata": {
    "scrolled": false
   },
   "outputs": [],
   "source": [
    "# fill in the missing values in CustomerID column with zeros \n",
    "retail = retail.fillna({'CustomerID':0})"
   ]
  },
  {
   "cell_type": "code",
   "execution_count": 11,
   "metadata": {},
   "outputs": [],
   "source": [
    "# fill in the missing values in Description column with 'no_info'\n",
    "retail['Description'] = retail['Description'].fillna('no_info')"
   ]
  },
  {
   "cell_type": "code",
   "execution_count": 12,
   "metadata": {
    "scrolled": true
   },
   "outputs": [
    {
     "data": {
      "text/plain": [
       "InvoiceNo      0\n",
       "StockCode      0\n",
       "Description    0\n",
       "Quantity       0\n",
       "InvoiceDate    0\n",
       "UnitPrice      0\n",
       "CustomerID     0\n",
       "Country        0\n",
       "dtype: int64"
      ]
     },
     "execution_count": 12,
     "metadata": {},
     "output_type": "execute_result"
    }
   ],
   "source": [
    "retail.isnull().sum()"
   ]
  },
  {
   "cell_type": "code",
   "execution_count": 13,
   "metadata": {
    "scrolled": true
   },
   "outputs": [
    {
     "data": {
      "text/html": [
       "<div>\n",
       "<style scoped>\n",
       "    .dataframe tbody tr th:only-of-type {\n",
       "        vertical-align: middle;\n",
       "    }\n",
       "\n",
       "    .dataframe tbody tr th {\n",
       "        vertical-align: top;\n",
       "    }\n",
       "\n",
       "    .dataframe thead th {\n",
       "        text-align: right;\n",
       "    }\n",
       "</style>\n",
       "<table border=\"1\" class=\"dataframe\">\n",
       "  <thead>\n",
       "    <tr style=\"text-align: right;\">\n",
       "      <th></th>\n",
       "      <th>InvoiceNo</th>\n",
       "      <th>StockCode</th>\n",
       "      <th>Description</th>\n",
       "      <th>Quantity</th>\n",
       "      <th>InvoiceDate</th>\n",
       "      <th>UnitPrice</th>\n",
       "      <th>CustomerID</th>\n",
       "      <th>Country</th>\n",
       "    </tr>\n",
       "  </thead>\n",
       "  <tbody>\n",
       "    <tr>\n",
       "      <th>622</th>\n",
       "      <td>536414</td>\n",
       "      <td>22139</td>\n",
       "      <td>no_info</td>\n",
       "      <td>56</td>\n",
       "      <td>12/1/2010 11:52</td>\n",
       "      <td>0.00</td>\n",
       "      <td>0.0</td>\n",
       "      <td>United Kingdom</td>\n",
       "    </tr>\n",
       "    <tr>\n",
       "      <th>1443</th>\n",
       "      <td>536544</td>\n",
       "      <td>21773</td>\n",
       "      <td>decorative rose bathroom bottle</td>\n",
       "      <td>1</td>\n",
       "      <td>12/1/2010 14:32</td>\n",
       "      <td>2.51</td>\n",
       "      <td>0.0</td>\n",
       "      <td>United Kingdom</td>\n",
       "    </tr>\n",
       "    <tr>\n",
       "      <th>1444</th>\n",
       "      <td>536544</td>\n",
       "      <td>21774</td>\n",
       "      <td>decorative cats bathroom bottle</td>\n",
       "      <td>2</td>\n",
       "      <td>12/1/2010 14:32</td>\n",
       "      <td>2.51</td>\n",
       "      <td>0.0</td>\n",
       "      <td>United Kingdom</td>\n",
       "    </tr>\n",
       "    <tr>\n",
       "      <th>1445</th>\n",
       "      <td>536544</td>\n",
       "      <td>21786</td>\n",
       "      <td>polkadot rain hat</td>\n",
       "      <td>4</td>\n",
       "      <td>12/1/2010 14:32</td>\n",
       "      <td>0.85</td>\n",
       "      <td>0.0</td>\n",
       "      <td>United Kingdom</td>\n",
       "    </tr>\n",
       "    <tr>\n",
       "      <th>1446</th>\n",
       "      <td>536544</td>\n",
       "      <td>21787</td>\n",
       "      <td>rain poncho retrospot</td>\n",
       "      <td>2</td>\n",
       "      <td>12/1/2010 14:32</td>\n",
       "      <td>1.66</td>\n",
       "      <td>0.0</td>\n",
       "      <td>United Kingdom</td>\n",
       "    </tr>\n",
       "  </tbody>\n",
       "</table>\n",
       "</div>"
      ],
      "text/plain": [
       "     InvoiceNo StockCode                      Description  Quantity  \\\n",
       "622     536414     22139                          no_info        56   \n",
       "1443    536544     21773  decorative rose bathroom bottle         1   \n",
       "1444    536544     21774  decorative cats bathroom bottle         2   \n",
       "1445    536544     21786               polkadot rain hat          4   \n",
       "1446    536544     21787            rain poncho retrospot         2   \n",
       "\n",
       "          InvoiceDate  UnitPrice  CustomerID         Country  \n",
       "622   12/1/2010 11:52       0.00         0.0  United Kingdom  \n",
       "1443  12/1/2010 14:32       2.51         0.0  United Kingdom  \n",
       "1444  12/1/2010 14:32       2.51         0.0  United Kingdom  \n",
       "1445  12/1/2010 14:32       0.85         0.0  United Kingdom  \n",
       "1446  12/1/2010 14:32       1.66         0.0  United Kingdom  "
      ]
     },
     "execution_count": 13,
     "metadata": {},
     "output_type": "execute_result"
    }
   ],
   "source": [
    "retail[retail.CustomerID == 0].head()"
   ]
  },
  {
   "cell_type": "code",
   "execution_count": 14,
   "metadata": {
    "scrolled": false
   },
   "outputs": [],
   "source": [
    "# The 'C' in the invoices shows the canceled transactions. Since we will not use the canceled transactions, we should remove them.\n",
    "retail['InvoiceNo']= retail[~retail['InvoiceNo'].str.contains('C', na = False)]"
   ]
  },
  {
   "cell_type": "code",
   "execution_count": 15,
   "metadata": {},
   "outputs": [
    {
     "data": {
      "text/plain": [
       "InvoiceNo       object\n",
       "StockCode       object\n",
       "Description     object\n",
       "Quantity         int64\n",
       "InvoiceDate     object\n",
       "UnitPrice      float64\n",
       "CustomerID     float64\n",
       "Country         object\n",
       "dtype: object"
      ]
     },
     "execution_count": 15,
     "metadata": {},
     "output_type": "execute_result"
    }
   ],
   "source": [
    "retail.dtypes"
   ]
  },
  {
   "cell_type": "code",
   "execution_count": 16,
   "metadata": {
    "scrolled": true
   },
   "outputs": [],
   "source": [
    "# change the type of CustomerID and InvoiceDate columns \n",
<<<<<<< HEAD
    "retail.CustomerID = retail.CustomerID.astype('int64')\n",
    "retail['InvoiceDate'] = pd.to_datetime(retail['InvoiceDate'])"
=======
    "retail.CustomerID = retail.CustomerID.astype('int64')"
>>>>>>> 0e56f8f999e91aa0e6b11b0ed3da6fbbe8392dba
   ]
  },
  {
   "cell_type": "code",
   "execution_count": 17,
   "metadata": {},
   "outputs": [],
   "source": [
<<<<<<< HEAD
=======
    "retail['InvoiceDate'] = pd.to_datetime(retail['InvoiceDate'])"
   ]
  },
  {
   "cell_type": "code",
   "execution_count": 18,
   "metadata": {},
   "outputs": [],
   "source": [
>>>>>>> 0e56f8f999e91aa0e6b11b0ed3da6fbbe8392dba
    "# add one more column with revenue for finding some metrics \n",
    "retail['Revenue']=retail['Quantity']*retail['UnitPrice']"
   ]
  },
  {
   "cell_type": "code",
<<<<<<< HEAD
   "execution_count": 18,
=======
   "execution_count": 19,
>>>>>>> 0e56f8f999e91aa0e6b11b0ed3da6fbbe8392dba
   "metadata": {
    "scrolled": true
   },
   "outputs": [
    {
     "data": {
      "text/html": [
       "<div>\n",
       "<style scoped>\n",
       "    .dataframe tbody tr th:only-of-type {\n",
       "        vertical-align: middle;\n",
       "    }\n",
       "\n",
       "    .dataframe tbody tr th {\n",
       "        vertical-align: top;\n",
       "    }\n",
       "\n",
       "    .dataframe thead th {\n",
       "        text-align: right;\n",
       "    }\n",
       "</style>\n",
       "<table border=\"1\" class=\"dataframe\">\n",
       "  <thead>\n",
       "    <tr style=\"text-align: right;\">\n",
       "      <th></th>\n",
       "      <th>InvoiceNo</th>\n",
       "      <th>StockCode</th>\n",
       "      <th>Description</th>\n",
       "      <th>Quantity</th>\n",
       "      <th>InvoiceDate</th>\n",
       "      <th>UnitPrice</th>\n",
       "      <th>CustomerID</th>\n",
       "      <th>Country</th>\n",
       "      <th>Revenue</th>\n",
       "    </tr>\n",
       "  </thead>\n",
       "  <tbody>\n",
       "    <tr>\n",
       "      <th>0</th>\n",
       "      <td>536365</td>\n",
       "      <td>85123A</td>\n",
       "      <td>white hanging heart t-light holder</td>\n",
       "      <td>6</td>\n",
       "      <td>2010-12-01 08:26:00</td>\n",
       "      <td>2.55</td>\n",
       "      <td>17850</td>\n",
       "      <td>United Kingdom</td>\n",
       "      <td>15.30</td>\n",
       "    </tr>\n",
       "    <tr>\n",
       "      <th>1</th>\n",
       "      <td>536365</td>\n",
       "      <td>71053</td>\n",
       "      <td>white metal lantern</td>\n",
       "      <td>6</td>\n",
       "      <td>2010-12-01 08:26:00</td>\n",
       "      <td>3.39</td>\n",
       "      <td>17850</td>\n",
       "      <td>United Kingdom</td>\n",
       "      <td>20.34</td>\n",
       "    </tr>\n",
       "    <tr>\n",
       "      <th>2</th>\n",
       "      <td>536365</td>\n",
       "      <td>84406B</td>\n",
       "      <td>cream cupid hearts coat hanger</td>\n",
       "      <td>8</td>\n",
       "      <td>2010-12-01 08:26:00</td>\n",
       "      <td>2.75</td>\n",
       "      <td>17850</td>\n",
       "      <td>United Kingdom</td>\n",
       "      <td>22.00</td>\n",
       "    </tr>\n",
       "    <tr>\n",
       "      <th>3</th>\n",
       "      <td>536365</td>\n",
       "      <td>84029G</td>\n",
       "      <td>knitted union flag hot water bottle</td>\n",
       "      <td>6</td>\n",
       "      <td>2010-12-01 08:26:00</td>\n",
       "      <td>3.39</td>\n",
       "      <td>17850</td>\n",
       "      <td>United Kingdom</td>\n",
       "      <td>20.34</td>\n",
       "    </tr>\n",
       "    <tr>\n",
       "      <th>4</th>\n",
       "      <td>536365</td>\n",
       "      <td>84029E</td>\n",
       "      <td>red woolly hottie white heart.</td>\n",
       "      <td>6</td>\n",
       "      <td>2010-12-01 08:26:00</td>\n",
       "      <td>3.39</td>\n",
       "      <td>17850</td>\n",
       "      <td>United Kingdom</td>\n",
       "      <td>20.34</td>\n",
       "    </tr>\n",
       "  </tbody>\n",
       "</table>\n",
       "</div>"
      ],
      "text/plain": [
       "  InvoiceNo StockCode                          Description  Quantity  \\\n",
       "0    536365    85123A   white hanging heart t-light holder         6   \n",
       "1    536365     71053                  white metal lantern         6   \n",
       "2    536365    84406B       cream cupid hearts coat hanger         8   \n",
       "3    536365    84029G  knitted union flag hot water bottle         6   \n",
       "4    536365    84029E       red woolly hottie white heart.         6   \n",
       "\n",
       "          InvoiceDate  UnitPrice  CustomerID         Country  Revenue  \n",
       "0 2010-12-01 08:26:00       2.55       17850  United Kingdom    15.30  \n",
       "1 2010-12-01 08:26:00       3.39       17850  United Kingdom    20.34  \n",
       "2 2010-12-01 08:26:00       2.75       17850  United Kingdom    22.00  \n",
       "3 2010-12-01 08:26:00       3.39       17850  United Kingdom    20.34  \n",
       "4 2010-12-01 08:26:00       3.39       17850  United Kingdom    20.34  "
      ]
     },
<<<<<<< HEAD
     "execution_count": 18,
=======
     "execution_count": 19,
>>>>>>> 0e56f8f999e91aa0e6b11b0ed3da6fbbe8392dba
     "metadata": {},
     "output_type": "execute_result"
    }
   ],
   "source": [
    "retail.head()"
   ]
  },
  {
   "cell_type": "markdown",
   "metadata": {},
   "source": [
    "# Exploratory Data Analysis (EDA)"
   ]
  },
  {
   "cell_type": "code",
<<<<<<< HEAD
   "execution_count": 19,
=======
   "execution_count": 20,
>>>>>>> 0e56f8f999e91aa0e6b11b0ed3da6fbbe8392dba
   "metadata": {},
   "outputs": [],
   "source": [
    "retail = retail.query('UnitPrice > 0')"
   ]
  },
  {
   "cell_type": "markdown",
   "metadata": {},
   "source": [
    "TOP5 best selling countries "
   ]
  },
  {
   "cell_type": "code",
<<<<<<< HEAD
   "execution_count": 20,
=======
   "execution_count": 21,
>>>>>>> 0e56f8f999e91aa0e6b11b0ed3da6fbbe8392dba
   "metadata": {
    "scrolled": true
   },
   "outputs": [
    {
     "data": {
      "text/html": [
       "<div>\n",
       "<style scoped>\n",
       "    .dataframe tbody tr th:only-of-type {\n",
       "        vertical-align: middle;\n",
       "    }\n",
       "\n",
       "    .dataframe tbody tr th {\n",
       "        vertical-align: top;\n",
       "    }\n",
       "\n",
       "    .dataframe thead th {\n",
       "        text-align: right;\n",
       "    }\n",
       "</style>\n",
       "<table border=\"1\" class=\"dataframe\">\n",
       "  <thead>\n",
       "    <tr style=\"text-align: right;\">\n",
       "      <th></th>\n",
       "      <th>Country</th>\n",
       "      <th>CustomerID</th>\n",
       "    </tr>\n",
       "  </thead>\n",
       "  <tbody>\n",
       "    <tr>\n",
       "      <th>0</th>\n",
       "      <td>United Kingdom</td>\n",
       "      <td>492979</td>\n",
       "    </tr>\n",
       "    <tr>\n",
       "      <th>1</th>\n",
       "      <td>Germany</td>\n",
       "      <td>9493</td>\n",
       "    </tr>\n",
       "    <tr>\n",
       "      <th>2</th>\n",
       "      <td>France</td>\n",
       "      <td>8556</td>\n",
       "    </tr>\n",
       "    <tr>\n",
       "      <th>3</th>\n",
       "      <td>EIRE</td>\n",
       "      <td>8192</td>\n",
       "    </tr>\n",
       "    <tr>\n",
       "      <th>4</th>\n",
       "      <td>Spain</td>\n",
       "      <td>2532</td>\n",
       "    </tr>\n",
       "  </tbody>\n",
       "</table>\n",
       "</div>"
      ],
      "text/plain": [
       "          Country  CustomerID\n",
       "0  United Kingdom      492979\n",
       "1         Germany        9493\n",
       "2          France        8556\n",
       "3            EIRE        8192\n",
       "4           Spain        2532"
      ]
     },
<<<<<<< HEAD
     "execution_count": 20,
=======
     "execution_count": 21,
>>>>>>> 0e56f8f999e91aa0e6b11b0ed3da6fbbe8392dba
     "metadata": {},
     "output_type": "execute_result"
    }
   ],
   "source": [
    "retail.groupby('Country').agg({'CustomerID': 'count'}). \\\n",
    "sort_values('CustomerID', ascending=False).reset_index().head()"
   ]
  },
  {
   "cell_type": "markdown",
   "metadata": {},
   "source": [
    "TOP5 most ordered products"
   ]
  },
  {
   "cell_type": "code",
<<<<<<< HEAD
   "execution_count": 21,
=======
   "execution_count": 22,
>>>>>>> 0e56f8f999e91aa0e6b11b0ed3da6fbbe8392dba
   "metadata": {
    "scrolled": true
   },
   "outputs": [
    {
     "data": {
      "text/plain": [
       "85123A    2307\n",
       "22423     2198\n",
       "85099B    2156\n",
       "47566     1726\n",
       "20725     1639\n",
       "Name: StockCode, dtype: int64"
      ]
     },
<<<<<<< HEAD
     "execution_count": 21,
=======
     "execution_count": 22,
>>>>>>> 0e56f8f999e91aa0e6b11b0ed3da6fbbe8392dba
     "metadata": {},
     "output_type": "execute_result"
    }
   ],
   "source": [
    "retail['StockCode'].value_counts().sort_values(ascending=False).head()"
   ]
  },
  {
   "cell_type": "markdown",
   "metadata": {},
   "source": [
    "TOP5 countries by unique users "
   ]
  },
  {
   "cell_type": "code",
<<<<<<< HEAD
   "execution_count": 22,
=======
   "execution_count": 23,
>>>>>>> 0e56f8f999e91aa0e6b11b0ed3da6fbbe8392dba
   "metadata": {},
   "outputs": [
    {
     "data": {
      "text/html": [
       "<div>\n",
       "<style scoped>\n",
       "    .dataframe tbody tr th:only-of-type {\n",
       "        vertical-align: middle;\n",
       "    }\n",
       "\n",
       "    .dataframe tbody tr th {\n",
       "        vertical-align: top;\n",
       "    }\n",
       "\n",
       "    .dataframe thead th {\n",
       "        text-align: right;\n",
       "    }\n",
       "</style>\n",
       "<table border=\"1\" class=\"dataframe\">\n",
       "  <thead>\n",
       "    <tr style=\"text-align: right;\">\n",
       "      <th></th>\n",
       "      <th>Country</th>\n",
       "      <th>CustomerID</th>\n",
       "    </tr>\n",
       "  </thead>\n",
       "  <tbody>\n",
       "    <tr>\n",
       "      <th>0</th>\n",
       "      <td>United Kingdom</td>\n",
       "      <td>3949</td>\n",
       "    </tr>\n",
       "    <tr>\n",
       "      <th>1</th>\n",
       "      <td>Germany</td>\n",
       "      <td>95</td>\n",
       "    </tr>\n",
       "    <tr>\n",
       "      <th>2</th>\n",
       "      <td>France</td>\n",
       "      <td>87</td>\n",
       "    </tr>\n",
       "    <tr>\n",
       "      <th>3</th>\n",
       "      <td>Spain</td>\n",
       "      <td>31</td>\n",
       "    </tr>\n",
       "    <tr>\n",
       "      <th>4</th>\n",
       "      <td>Belgium</td>\n",
       "      <td>25</td>\n",
       "    </tr>\n",
       "  </tbody>\n",
       "</table>\n",
       "</div>"
      ],
      "text/plain": [
       "          Country  CustomerID\n",
       "0  United Kingdom        3949\n",
       "1         Germany          95\n",
       "2          France          87\n",
       "3           Spain          31\n",
       "4         Belgium          25"
      ]
     },
<<<<<<< HEAD
     "execution_count": 22,
=======
     "execution_count": 23,
>>>>>>> 0e56f8f999e91aa0e6b11b0ed3da6fbbe8392dba
     "metadata": {},
     "output_type": "execute_result"
    }
   ],
   "source": [
    "retail[retail.CustomerID > 0].groupby('Country').agg({'CustomerID': pd.Series.nunique}). \\\n",
    "sort_values('CustomerID', ascending=False).reset_index().head()"
   ]
  },
  {
   "cell_type": "code",
<<<<<<< HEAD
   "execution_count": 23,
=======
   "execution_count": 24,
>>>>>>> 0e56f8f999e91aa0e6b11b0ed3da6fbbe8392dba
   "metadata": {},
   "outputs": [
    {
     "data": {
      "text/plain": [
       "4379"
      ]
     },
<<<<<<< HEAD
     "execution_count": 23,
=======
     "execution_count": 24,
>>>>>>> 0e56f8f999e91aa0e6b11b0ed3da6fbbe8392dba
     "metadata": {},
     "output_type": "execute_result"
    }
   ],
   "source": [
    "retail[retail.CustomerID > 0].groupby('Country').agg({'CustomerID': pd.Series.nunique}). \\\n",
    "sort_values('CustomerID', ascending=False).reset_index().CustomerID.sum()"
   ]
  },
  {
   "cell_type": "markdown",
   "metadata": {},
   "source": [
<<<<<<< HEAD
    "We have discovered that more than 90% customers are in United Kingdom. Further we will analyze this country "
=======
    "We have discovered that more than 90% of transactions are made in United Kingdom. Further we will analyze this country "
>>>>>>> 0e56f8f999e91aa0e6b11b0ed3da6fbbe8392dba
   ]
  },
  {
   "cell_type": "code",
<<<<<<< HEAD
   "execution_count": 24,
=======
   "execution_count": 25,
>>>>>>> 0e56f8f999e91aa0e6b11b0ed3da6fbbe8392dba
   "metadata": {},
   "outputs": [],
   "source": [
    "UK_sales = retail.query(\"Country == 'United Kingdom' & CustomerID > 0\")"
   ]
  },
  {
   "cell_type": "markdown",
   "metadata": {},
   "source": [
    "Number of transactions per each user "
   ]
  },
  {
   "cell_type": "code",
<<<<<<< HEAD
   "execution_count": 25,
=======
   "execution_count": 26,
>>>>>>> 0e56f8f999e91aa0e6b11b0ed3da6fbbe8392dba
   "metadata": {},
   "outputs": [
    {
     "data": {
      "text/html": [
       "<div>\n",
       "<style scoped>\n",
       "    .dataframe tbody tr th:only-of-type {\n",
       "        vertical-align: middle;\n",
       "    }\n",
       "\n",
       "    .dataframe tbody tr th {\n",
       "        vertical-align: top;\n",
       "    }\n",
       "\n",
       "    .dataframe thead th {\n",
       "        text-align: right;\n",
       "    }\n",
       "</style>\n",
       "<table border=\"1\" class=\"dataframe\">\n",
       "  <thead>\n",
       "    <tr style=\"text-align: right;\">\n",
       "      <th></th>\n",
       "      <th>CustomerID</th>\n",
       "      <th>transactions</th>\n",
       "    </tr>\n",
       "  </thead>\n",
       "  <tbody>\n",
       "    <tr>\n",
       "      <th>0</th>\n",
       "      <td>17841</td>\n",
       "      <td>7847</td>\n",
       "    </tr>\n",
       "    <tr>\n",
       "      <th>1</th>\n",
       "      <td>14096</td>\n",
       "      <td>5111</td>\n",
       "    </tr>\n",
       "    <tr>\n",
       "      <th>2</th>\n",
       "      <td>12748</td>\n",
       "      <td>4595</td>\n",
       "    </tr>\n",
       "    <tr>\n",
       "      <th>3</th>\n",
       "      <td>14606</td>\n",
       "      <td>2700</td>\n",
       "    </tr>\n",
       "    <tr>\n",
       "      <th>4</th>\n",
       "      <td>15311</td>\n",
       "      <td>2379</td>\n",
       "    </tr>\n",
       "  </tbody>\n",
       "</table>\n",
       "</div>"
      ],
      "text/plain": [
       "   CustomerID  transactions\n",
       "0       17841          7847\n",
       "1       14096          5111\n",
       "2       12748          4595\n",
       "3       14606          2700\n",
       "4       15311          2379"
      ]
     },
<<<<<<< HEAD
     "execution_count": 25,
=======
     "execution_count": 26,
>>>>>>> 0e56f8f999e91aa0e6b11b0ed3da6fbbe8392dba
     "metadata": {},
     "output_type": "execute_result"
    }
   ],
   "source": [
    "UK_sales.groupby('CustomerID').agg({'InvoiceNo': 'count'}).\\\n",
    "rename(columns={'InvoiceNo': 'transactions'}). \\\n",
    "sort_values('transactions', ascending=False).reset_index().head()"
   ]
  },
  {
   "cell_type": "markdown",
   "metadata": {},
   "source": [
    "In order to encourage top clients the shop management can offer special loyalty program, triggered or personalized emails or product recommendations "
   ]
  },
  {
   "cell_type": "code",
<<<<<<< HEAD
   "execution_count": 26,
=======
   "execution_count": 27,
>>>>>>> 0e56f8f999e91aa0e6b11b0ed3da6fbbe8392dba
   "metadata": {},
   "outputs": [
    {
     "data": {
      "text/plain": [
       "40.0"
      ]
     },
<<<<<<< HEAD
     "execution_count": 26,
=======
     "execution_count": 27,
>>>>>>> 0e56f8f999e91aa0e6b11b0ed3da6fbbe8392dba
     "metadata": {},
     "output_type": "execute_result"
    }
   ],
   "source": [
    "UK_sales.groupby('CustomerID').agg({'InvoiceNo': 'count'}).\\\n",
    "    rename(columns={'InvoiceNo': 'transactions'}). \\\n",
    "    sort_values('transactions', ascending=False).reset_index().transactions.median()"
   ]
  },
  {
   "cell_type": "code",
<<<<<<< HEAD
   "execution_count": 27,
=======
   "execution_count": 28,
>>>>>>> 0e56f8f999e91aa0e6b11b0ed3da6fbbe8392dba
   "metadata": {},
   "outputs": [],
   "source": [
    "transact_data = UK_sales.groupby('CustomerID').agg({'InvoiceNo': 'count'}).\\\n",
    "    rename(columns={'InvoiceNo': 'transactions'}). \\\n",
    "    sort_values('transactions', ascending=False).reset_index()"
   ]
  },
  {
   "cell_type": "code",
<<<<<<< HEAD
   "execution_count": 28,
=======
   "execution_count": 29,
>>>>>>> 0e56f8f999e91aa0e6b11b0ed3da6fbbe8392dba
   "metadata": {
    "scrolled": false
   },
   "outputs": [
    {
     "data": {
      "text/plain": [
       "<AxesSubplot:xlabel='transactions'>"
      ]
     },
<<<<<<< HEAD
     "execution_count": 28,
=======
     "execution_count": 29,
>>>>>>> 0e56f8f999e91aa0e6b11b0ed3da6fbbe8392dba
     "metadata": {},
     "output_type": "execute_result"
    },
    {
     "data": {
      "image/png": "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\n",
      "text/plain": [
       "<Figure size 1152x432 with 1 Axes>"
      ]
     },
     "metadata": {},
     "output_type": "display_data"
    }
   ],
   "source": [
    "sns.distplot(transact_data.query('transactions < 1000').transactions, kde = False, color = 'purple')"
   ]
  },
  {
   "cell_type": "markdown",
   "metadata": {},
   "source": [
    "From the histogram above we can understand that most of customers (more than 1000 persons) made up to 20 transactions  "
   ]
  },
  {
   "cell_type": "code",
<<<<<<< HEAD
   "execution_count": 29,
=======
   "execution_count": 30,
>>>>>>> 0e56f8f999e91aa0e6b11b0ed3da6fbbe8392dba
   "metadata": {
    "scrolled": false
   },
   "outputs": [
    {
     "data": {
      "text/html": [
       "<div>\n",
       "<style scoped>\n",
       "    .dataframe tbody tr th:only-of-type {\n",
       "        vertical-align: middle;\n",
       "    }\n",
       "\n",
       "    .dataframe tbody tr th {\n",
       "        vertical-align: top;\n",
       "    }\n",
       "\n",
       "    .dataframe thead th {\n",
       "        text-align: right;\n",
       "    }\n",
       "</style>\n",
       "<table border=\"1\" class=\"dataframe\">\n",
       "  <thead>\n",
       "    <tr style=\"text-align: right;\">\n",
       "      <th></th>\n",
       "      <th>InvoiceNo</th>\n",
       "      <th>StockCode</th>\n",
       "      <th>Description</th>\n",
       "      <th>Quantity</th>\n",
       "      <th>InvoiceDate</th>\n",
       "      <th>UnitPrice</th>\n",
       "      <th>CustomerID</th>\n",
       "      <th>Country</th>\n",
       "      <th>Revenue</th>\n",
       "    </tr>\n",
       "  </thead>\n",
       "  <tbody>\n",
       "    <tr>\n",
       "      <th>0</th>\n",
       "      <td>536365</td>\n",
       "      <td>85123A</td>\n",
       "      <td>white hanging heart t-light holder</td>\n",
       "      <td>6</td>\n",
       "      <td>2010-12-01 08:26:00</td>\n",
       "      <td>2.55</td>\n",
       "      <td>17850</td>\n",
       "      <td>United Kingdom</td>\n",
       "      <td>15.30</td>\n",
       "    </tr>\n",
       "    <tr>\n",
       "      <th>1</th>\n",
       "      <td>536365</td>\n",
       "      <td>71053</td>\n",
       "      <td>white metal lantern</td>\n",
       "      <td>6</td>\n",
       "      <td>2010-12-01 08:26:00</td>\n",
       "      <td>3.39</td>\n",
       "      <td>17850</td>\n",
       "      <td>United Kingdom</td>\n",
       "      <td>20.34</td>\n",
       "    </tr>\n",
       "    <tr>\n",
       "      <th>2</th>\n",
       "      <td>536365</td>\n",
       "      <td>84406B</td>\n",
       "      <td>cream cupid hearts coat hanger</td>\n",
       "      <td>8</td>\n",
       "      <td>2010-12-01 08:26:00</td>\n",
       "      <td>2.75</td>\n",
       "      <td>17850</td>\n",
       "      <td>United Kingdom</td>\n",
       "      <td>22.00</td>\n",
       "    </tr>\n",
       "    <tr>\n",
       "      <th>3</th>\n",
       "      <td>536365</td>\n",
       "      <td>84029G</td>\n",
       "      <td>knitted union flag hot water bottle</td>\n",
       "      <td>6</td>\n",
       "      <td>2010-12-01 08:26:00</td>\n",
       "      <td>3.39</td>\n",
       "      <td>17850</td>\n",
       "      <td>United Kingdom</td>\n",
       "      <td>20.34</td>\n",
       "    </tr>\n",
       "    <tr>\n",
       "      <th>4</th>\n",
       "      <td>536365</td>\n",
       "      <td>84029E</td>\n",
       "      <td>red woolly hottie white heart.</td>\n",
       "      <td>6</td>\n",
       "      <td>2010-12-01 08:26:00</td>\n",
       "      <td>3.39</td>\n",
       "      <td>17850</td>\n",
       "      <td>United Kingdom</td>\n",
       "      <td>20.34</td>\n",
       "    </tr>\n",
       "  </tbody>\n",
       "</table>\n",
       "</div>"
      ],
      "text/plain": [
       "  InvoiceNo StockCode                          Description  Quantity  \\\n",
       "0    536365    85123A   white hanging heart t-light holder         6   \n",
       "1    536365     71053                  white metal lantern         6   \n",
       "2    536365    84406B       cream cupid hearts coat hanger         8   \n",
       "3    536365    84029G  knitted union flag hot water bottle         6   \n",
       "4    536365    84029E       red woolly hottie white heart.         6   \n",
       "\n",
       "          InvoiceDate  UnitPrice  CustomerID         Country  Revenue  \n",
       "0 2010-12-01 08:26:00       2.55       17850  United Kingdom    15.30  \n",
       "1 2010-12-01 08:26:00       3.39       17850  United Kingdom    20.34  \n",
       "2 2010-12-01 08:26:00       2.75       17850  United Kingdom    22.00  \n",
       "3 2010-12-01 08:26:00       3.39       17850  United Kingdom    20.34  \n",
       "4 2010-12-01 08:26:00       3.39       17850  United Kingdom    20.34  "
      ]
     },
<<<<<<< HEAD
     "execution_count": 29,
=======
     "execution_count": 30,
>>>>>>> 0e56f8f999e91aa0e6b11b0ed3da6fbbe8392dba
     "metadata": {},
     "output_type": "execute_result"
    }
   ],
   "source": [
    "UK_sales.head()"
   ]
  },
  {
   "cell_type": "code",
<<<<<<< HEAD
   "execution_count": 30,
=======
   "execution_count": 31,
>>>>>>> 0e56f8f999e91aa0e6b11b0ed3da6fbbe8392dba
   "metadata": {},
   "outputs": [],
   "source": [
    "UK_sales.index = UK_sales.InvoiceDate"
   ]
  },
  {
   "cell_type": "code",
<<<<<<< HEAD
   "execution_count": 31,
=======
   "execution_count": 32,
>>>>>>> 0e56f8f999e91aa0e6b11b0ed3da6fbbe8392dba
   "metadata": {
    "scrolled": true
   },
   "outputs": [
    {
     "data": {
      "text/html": [
       "<div>\n",
       "<style scoped>\n",
       "    .dataframe tbody tr th:only-of-type {\n",
       "        vertical-align: middle;\n",
       "    }\n",
       "\n",
       "    .dataframe tbody tr th {\n",
       "        vertical-align: top;\n",
       "    }\n",
       "\n",
       "    .dataframe thead th {\n",
       "        text-align: right;\n",
       "    }\n",
       "</style>\n",
       "<table border=\"1\" class=\"dataframe\">\n",
       "  <thead>\n",
       "    <tr style=\"text-align: right;\">\n",
       "      <th></th>\n",
       "      <th>InvoiceNo</th>\n",
       "      <th>StockCode</th>\n",
       "      <th>Description</th>\n",
       "      <th>Quantity</th>\n",
       "      <th>InvoiceDate</th>\n",
       "      <th>UnitPrice</th>\n",
       "      <th>CustomerID</th>\n",
       "      <th>Country</th>\n",
       "      <th>Revenue</th>\n",
       "    </tr>\n",
       "    <tr>\n",
       "      <th>InvoiceDate</th>\n",
       "      <th></th>\n",
       "      <th></th>\n",
       "      <th></th>\n",
       "      <th></th>\n",
       "      <th></th>\n",
       "      <th></th>\n",
       "      <th></th>\n",
       "      <th></th>\n",
       "      <th></th>\n",
       "    </tr>\n",
       "  </thead>\n",
       "  <tbody>\n",
       "    <tr>\n",
       "      <th>2010-12-01 08:26:00</th>\n",
       "      <td>536365</td>\n",
       "      <td>85123A</td>\n",
       "      <td>white hanging heart t-light holder</td>\n",
       "      <td>6</td>\n",
       "      <td>2010-12-01 08:26:00</td>\n",
       "      <td>2.55</td>\n",
       "      <td>17850</td>\n",
       "      <td>United Kingdom</td>\n",
       "      <td>15.30</td>\n",
       "    </tr>\n",
       "    <tr>\n",
       "      <th>2010-12-01 08:26:00</th>\n",
       "      <td>536365</td>\n",
       "      <td>71053</td>\n",
       "      <td>white metal lantern</td>\n",
       "      <td>6</td>\n",
       "      <td>2010-12-01 08:26:00</td>\n",
       "      <td>3.39</td>\n",
       "      <td>17850</td>\n",
       "      <td>United Kingdom</td>\n",
       "      <td>20.34</td>\n",
       "    </tr>\n",
       "    <tr>\n",
       "      <th>2010-12-01 08:26:00</th>\n",
       "      <td>536365</td>\n",
       "      <td>84406B</td>\n",
       "      <td>cream cupid hearts coat hanger</td>\n",
       "      <td>8</td>\n",
       "      <td>2010-12-01 08:26:00</td>\n",
       "      <td>2.75</td>\n",
       "      <td>17850</td>\n",
       "      <td>United Kingdom</td>\n",
       "      <td>22.00</td>\n",
       "    </tr>\n",
       "    <tr>\n",
       "      <th>2010-12-01 08:26:00</th>\n",
       "      <td>536365</td>\n",
       "      <td>84029G</td>\n",
       "      <td>knitted union flag hot water bottle</td>\n",
       "      <td>6</td>\n",
       "      <td>2010-12-01 08:26:00</td>\n",
       "      <td>3.39</td>\n",
       "      <td>17850</td>\n",
       "      <td>United Kingdom</td>\n",
       "      <td>20.34</td>\n",
       "    </tr>\n",
       "    <tr>\n",
       "      <th>2010-12-01 08:26:00</th>\n",
       "      <td>536365</td>\n",
       "      <td>84029E</td>\n",
       "      <td>red woolly hottie white heart.</td>\n",
       "      <td>6</td>\n",
       "      <td>2010-12-01 08:26:00</td>\n",
       "      <td>3.39</td>\n",
       "      <td>17850</td>\n",
       "      <td>United Kingdom</td>\n",
       "      <td>20.34</td>\n",
       "    </tr>\n",
       "  </tbody>\n",
       "</table>\n",
       "</div>"
      ],
      "text/plain": [
       "                    InvoiceNo StockCode                          Description  \\\n",
       "InvoiceDate                                                                    \n",
       "2010-12-01 08:26:00    536365    85123A   white hanging heart t-light holder   \n",
       "2010-12-01 08:26:00    536365     71053                  white metal lantern   \n",
       "2010-12-01 08:26:00    536365    84406B       cream cupid hearts coat hanger   \n",
       "2010-12-01 08:26:00    536365    84029G  knitted union flag hot water bottle   \n",
       "2010-12-01 08:26:00    536365    84029E       red woolly hottie white heart.   \n",
       "\n",
       "                     Quantity         InvoiceDate  UnitPrice  CustomerID  \\\n",
       "InvoiceDate                                                                \n",
       "2010-12-01 08:26:00         6 2010-12-01 08:26:00       2.55       17850   \n",
       "2010-12-01 08:26:00         6 2010-12-01 08:26:00       3.39       17850   \n",
       "2010-12-01 08:26:00         8 2010-12-01 08:26:00       2.75       17850   \n",
       "2010-12-01 08:26:00         6 2010-12-01 08:26:00       3.39       17850   \n",
       "2010-12-01 08:26:00         6 2010-12-01 08:26:00       3.39       17850   \n",
       "\n",
       "                            Country  Revenue  \n",
       "InvoiceDate                                   \n",
       "2010-12-01 08:26:00  United Kingdom    15.30  \n",
       "2010-12-01 08:26:00  United Kingdom    20.34  \n",
       "2010-12-01 08:26:00  United Kingdom    22.00  \n",
       "2010-12-01 08:26:00  United Kingdom    20.34  \n",
       "2010-12-01 08:26:00  United Kingdom    20.34  "
      ]
     },
<<<<<<< HEAD
     "execution_count": 31,
=======
     "execution_count": 32,
>>>>>>> 0e56f8f999e91aa0e6b11b0ed3da6fbbe8392dba
     "metadata": {},
     "output_type": "execute_result"
    }
   ],
   "source": [
    "UK_sales.head()"
   ]
  },
  {
   "cell_type": "markdown",
   "metadata": {},
   "source": [
    "Number of unique users per each month"
   ]
  },
  {
   "cell_type": "code",
<<<<<<< HEAD
   "execution_count": 32,
=======
   "execution_count": 33,
>>>>>>> 0e56f8f999e91aa0e6b11b0ed3da6fbbe8392dba
   "metadata": {
    "scrolled": true
   },
   "outputs": [
    {
     "data": {
      "text/plain": [
       "<AxesSubplot:xlabel='InvoiceDate'>"
      ]
     },
<<<<<<< HEAD
     "execution_count": 32,
=======
     "execution_count": 33,
>>>>>>> 0e56f8f999e91aa0e6b11b0ed3da6fbbe8392dba
     "metadata": {},
     "output_type": "execute_result"
    },
    {
     "data": {
      "image/png": "iVBORw0KGgoAAAANSUhEUgAAA7cAAAGBCAYAAAC92EaaAAAAOXRFWHRTb2Z0d2FyZQBNYXRwbG90bGliIHZlcnNpb24zLjMuMiwgaHR0cHM6Ly9tYXRwbG90bGliLm9yZy8vihELAAAACXBIWXMAAAsTAAALEwEAmpwYAABmlklEQVR4nO3dd3hUZd7G8XvSQwpJIIWaoUgNTUCKlAACoYQSinQVkLWsbVddLKvru6IuoFjRtWGhQ4DQDCtSBEINCIQiCCRAgBAgEAikzrx/REYjKi3Jmcl8P9flxeZkyj3ZEHLPOb/nMVmtVqsAAAAAAHBgLkYHAAAAAADgdlFuAQAAAAAOj3ILAAAAAHB4lFsAAAAAgMOj3AIAAAAAHJ6b0QGux2KxKCsrS+7u7jKZTEbHAQAAAAAUI6vVqry8PPn4+MjF5dbPv9p9uc3KytKBAweMjgEAAAAAKEF16tSRn5/fLd/f7sutu7u7pMIX6uHhYXAa+5eUlKSIiAijYwAAAADADcnNzdWBAwds3e9W2X25vXopsoeHhzw9PQ1O4xj4OgEAAABwNLc7hsqCUgAAAAAAh0e5BQAAAAA4PMotAAAAAMDhUW4BAAAAAA6PcgsAAAAAcHiUWwAAAACAw6PcAgAAAAAcHuUWAAAAAODwKLcAAAAAAIdHuQUAAAAAODzKLQAAAAAUM6vVqoPfHFR+dr7RUZwG5RYAAAAAitl3z3+nmT1n6ocvfzA6itOg3AIAAABAMdry/hZteGODJCl5dbKxYZyIm9EBAAAAAKCs2Ldgn755/BvV7VNX7uXcdWT1EVmtVplMJqOjlXmcuQUAAACAYnB0/VHFDotV1VZVNWDWANW4p4ay0rJ0Zv8Zo6M5BcotAAAAANym9L3pmtVnlgLCAzR0yVC5l3OXOdIsSUpek2xoNmdBuQUAAACA25CZmqnpUdPl6uGq4fHDVa5iOUlSYM1A+Vf1V8qaFIMTOgfKLQAAAADcouwL2ZrZc6ayM7I1fPlwBdYItH3OZDLJHGlW8ppkWa1WA1M6B8otAAAAANyC/Jx8zek/R+l70zU4drAq3VnpmtuYO5mVdTpLZ/Yxd1vSKLcAAAAAcJOsFqviHohT8upk9fm8j2p1q/W7t2PutvRQbgEAAADgJn37j2+VNCtJXV7voiYjm/zh7QJqBMi/mj/lthRQbgEAAADgJmx6e5M2Tt6olo+21N3/uPtPb8vcbemh3AIAAADADdozd49W/G2F6vWvp6h3omQyma57H3Mnsy6nX1b63vRSSOi8KLcAAAAAcAOS1yZr4ciFqta2mmJmxMjF9cbqFHO3pYNyCwAAAADXcTrptGb3na3AmoEaunio3L3db/i+AeYAla9env1uSxjlFgAAAAD+xIVjFzQ9arrcy7lrePxweQd539T9mbstHZRbAAAAAPgD2eezNaPHDOVk5mj4N8MVEB5wS49j7mTW5TPM3ZYkyi0AAAAA/I787HzN7jdbZw+c1b0L71VYk7Bbfizb3O3q5OIJh2tQbgEAAADgN6wWqxaOWqiUtSnq90U/1exS87YeL8AcoPLh5VlUqgRRbgEAAADgV6xWq1b8bYX2zturrpO6qtGwRsXyuOZIs1LWpshqYe62JFBuAQAAAOBXNr61UZvf2axWT7RSm7+3KbbHZe62ZFFuAQAAAOBnu2ft1rdPf6sGgxqo+1vdZTKZiu2xzR3NkqQjq48U22PiF5RbAAAAAJB0ZNURLbpvkcI7hKv/V/1lcim+YisVzt0GmAPY77aEUG4BAAAAOL1TO09pTv85qlCngu5ddK/cvNxK5HnMkWYlr01m7rYEUG4BAAAAOLXzKec1o8cMefh5aPg3w+Ud6F1izxUeGa4rZ6/o9J7TJfYczopyCwAAAMBpXTl3RTN6zFDe5TwN/2a4ylcrX6LPx363JYdyCwAAAMAp5V3J06w+s5RxKENDFg1RaKPQEn/OgPAABdQIYL/bEkC5BQAAAOB0LAUWLRyxUMc2HFP/r/vbzqiWBva7LRmUWwAAAABOxWq1Kv6JeO1bsE/dp3RXw8ENS/X5zZFmXTl3RaeTmLstTpRbAAAAAE5lw8QN2vrBVrX5exu1frJ1qT//1bPE7HdbvCi3AAAAAJzGzq936rvx3yliSIS6TuxqSIby1csrsGYg+90WM8otAAAAAKdw6NtDWjx6scydzOr7RV+ZXEyGZQmPDGe/22JGuQUAAABQ5p3ccVJzY+aqYv2KunfhvXLzdDM0jznSrOyMbKXtTjM0R1lCuQUAAABQpmUcydDMnjPlFeil4d8Ml1d5L6Mj/bLfLVsCFRvKLQAAAIAy6/KZy5oRNUP52fkaET9C/lX8jY4kSSpfrbwCawUqeXWy0VHKDMotAAAAgDIp73KeZvWZpfMp5zVk8RAFNwg2OlIR5kizUr5nv9viQrkFAAAAUOZY8i2KHRqr45uOK2ZGjMLbhxsd6Rq2udtdzN0WB8otAAAAgDLFarVq+V+X68fFP6rHuz3UYEADoyP9LuZuixflFgAAAECZsm7COiX+N1F3/+Nu3fXXu4yO84f8q/orqHYQc7fFhHILAAAAoMzYMW2HVv9ztRqPaKwur3UxOs51hUeGK+X7FFkKLEZHcXiUWwAAAABlwsFvDmrJg0tU856a6vNZH5lcTEZHui5zpFnZ55m7LQ6UWwAAAAAOL3VrquYNnKfQRqEaHDtYrh6uRke6IczdFh/KLQAAAACHdu7QOc3sNVPlgstp2PJh8vT3NDrSDfOv4q+gO5i7LQ6UWwAAAAAOK+t0lqZ3ny5rgVUj4kfIr5Kf0ZFu2tX9bpm7vT2UWwAAAAAOKTcrVzN7z9TF1IsaumSoKtaraHSkW2KONCvnQo7SdjJ3eztuqNxeunRJvXv31vHjx4scnz59ukaOHGn7eN++fYqJiVH37t31wgsvKD8/X5J04sQJDR8+XFFRUXr44YeVlZVVjC8BAAAAgLOx5Fs0f/B8nUw8qQGzBqha22pGR7plzN0Wj+uW2507d2ro0KFKTk4ucvynn37Sxx9/XOTYM888o5deekkrVqyQ1WrV3LlzJUmvvPKKhg0bpvj4eEVERGjq1KnF9woAAAAAOBWr1aqlDy3VweUH1fODnqrXr57RkW6LX2U/VahTgbnb23Tdcjt37ly9/PLLCgkJsR3Lzc3VSy+9pMcff9x2LDU1VdnZ2WratKkkKSYmRvHx8crLy9PWrVvVvXv3IscBAAAA4FasfWWtdny2Q+1faK8WD7UwOk6xYL/b2+d2vRtMmDDhmmNvvvmmBgwYoKpVq9qOnT59WsHBwbaPg4ODlZaWpoyMDPn6+srNza3I8ZuVlJR00/dxVomJiUZHAAAAAEpEysIU7Z6wW1Wjq8q/n3+Z+d3XWt2qnMwcrZ61WgH1A4yO45CuW25/a8OGDTp58qSee+45bd682XbcYrHIZPplk2Sr1SqTyWT789d++/GNiIiIkKen4yzpbZTExEQ1b97c6BgAAABAsTuw9ICSXk9S7ajaGhI7RK7ujrGX7Y2oU7mOdry4Q95p3mo+wrl+n8/JySmWk5k3vVry0qVLdfDgQfXt21cvvviikpKS9OSTTyosLEzp6em22505c0YhISEKCgrSxYsXVVBQIElKT08vcokzAAAAAFzP8c3HNW/wPIU1C9OgeYPKVLGVJL9KfqpQt4JS1qQYHcVh3fSZ29dff932vzdv3qz3339fb7/9tiTJ09PTduYwLi5OHTp0kLu7u1q0aKHly5crOjpaixYtUocOHYrtBQAAAAAo284eOKtZvWfJr5Kfhi0bJg9fD6MjlQhzpFlJs5JkybfIxY1dW29WsX7FJk+erNdff11RUVG6fPmyRo0aJUl6+eWXNXfuXPXs2VPbtm3Tk08+WZxPCwAAAKCMupR2SdOjpkuShscPl2+or8GJSo450qyczByd+uGU0VEc0g2fuV21atU1x1q1aqVWrVrZPq5Xr57mz59/ze2qVKmir7/++hYjAgAAAHBGORdzNLPnTGWlZem+1fepwh0VjI5UosI7hksq3O+2covKBqdxPJzrBgAAAGB3CvIKNG/QPJ3aeUoD5w5UlbuqGB2pxF2du01ek2x0FIdEuQUAAABgV6xWq5Y8uESHVhxS7496q06vOkZHKjXmTubC/W7z2e/2ZlFuAQAAANiV1f9crZ1f7lTHf3XUnWPvNDpOqTJHmpV7MVcnd5w0OorDodwCAAAAsBtbP9yqdRPWqdnYZur4Ukej45Q6c0ezJHFp8i2g3AIAAACwC/sX7dc3f/1Gd/S6Q70/7C2TyWR0pFLnG+arivUqst/tLaDcAgAAADDcsYRjih0aq8otKmvgnIFOvc+ruZNZKeuYu71ZzvsdAwAAAMAunNl/RrOiZ8m/qr+GLh0qDx8PoyMZyjZ3u52525tBuQUAAABgmIsnL2p61HS5uLloePxw+QT7GB3JcL/e7xY3jnILAAAAwBA5mTma2XOmLp+5rGHLhimoVpDRkeyCb6ivKtavSLm9SZRbAAAAAKWuILdAcwfMVdruNA2eP1iVW1Q2OpJdMXcy6+i6oyrIKzA6isOg3AIAAAAoVVaLVXGj43R45WH1+bSPakfVNjqS3TFHmpV7ibnbm0G5BQAAAFCqvnv+O+2esVudXu2kpvc3NTqOXWK/25tHuQUAAABQaja/t1kb/rNBzR9qrvbPtzc6jt3yCfFRcINg9ru9CZRbAAAAAKVib+xexT8Rr7p966rn+z1lMpmMjmTXzJ3MOrqeudsbRbkFAAAAUOJS1qVowfAFqtq6qgbMHCAXV6rI9djmbhOZu70RfEcBAAAAKFHpe9M1u89sBZgDNHTJULmXczc6kkMI78B+tzeDcgsAAACgxGSmZmp61HS5eblpRPwIlatQzuhIDsMnxEfBDYMptzeIcgsAAACgRGRfyNaMHjOUnZGtYcuHKcAcYHQkh2OOZO72RlFuAQAAABS7/Jx8zek/R2f2ndHgBYNVqVkloyM5JHMns/Ky8nRi2wmjo9g9yi0AAACAYmW1WBV3f5ySVyerz+d9VKtrLaMjOSzmbm8c5RYAAABAsfr22W+VNDtJXd7ooiYjmxgdx6H5BPsoJCKE/W5vAOUWAAAAQLHZOGWjNr65US3/2lJ3P3u30XHKhPDIcOZubwDlFgAAAECxSJqTpP/97X+qH1NfUW9HyWQyGR2pTKjRqYbyLufpxFbmbv8M5RYAAADAbUtek6xFoxapervq6j+9v1xcqRrFhbnbG8N3HAAAAIDbkrY7TbP7zVZgrUANiRsid293oyOVKeUqllNIoxDK7XVQbgEAAADcsgvHLmhGjxny8PHQiPgR8g7yNjpSmWSONOvYhmMqyGXu9o9QbgEAAADckisZVzSjxwzlXszV8G+Gq3z18kZHKrPMnczKu5yn1K2pRkexW5RbAAAAADctPztfc/rN0dkDZ3XvwnsV2jjU6EhlGnO310e5BQAAAHBTrBarFo5cqJTvU9Tvy36q0bmG0ZHKvHIVyim0cSj73f4Jyi0AAACAG2a1WhX/VLz2zt+rrpO7qtHQRkZHchrhkeE6uuEoc7d/gHILAAAA4Iac2X9Gi+5bpC3vblGrJ1upzd/aGB3JqdToVEP5V/KZu/0DbkYHAAAAAGDfjm08poSJCdoft19unm5q83Qbdf1PV5lMJqOjOZXwDuGSSUpenazqd1c3Oo7dodwCAAAAuIbVYtXB5Qe1YeIGHV13VF6BXurwYgfd9de75BPiY3Q8p+Qd5K3QxqFKXpOsDi92MDqO3aHcAgAAALApyC3Q7lm7lTApQel70uVfzV/d3+6uO8fcKQ9fD6PjOT1zpFmJHycqPydfbp7UuV/jqwEAAABAORdztP2T7do0ZZMyj2cqpFGI+n/dXw3vbShXd1ej4+Fn5kizNr+zWSe2nlD1dlya/GuUWwAAAMCJXUq7pM3vbta2qduUfT5b4R3D1fvj3qodVZuZWjt0de72yOojlNvfoNwCAAAATujcT+eUMDlBP3zxgwpyC1S/f321fbatqraqanQ0/AnvIG+FNQkr3O/2n0ansS+UWwAAAMCJpG5NVcLEBO2N3StXd1c1ua+J2j7dVhXqVDA6Gm5QeGS4Ej9i7va3+EoAAAAAZZzVatWhFYe0YeIGJa9Olmd5T7Ub306tHm8l3zBfo+PhJpkjzdr89malbklVePtwo+PYDcotAAAAUEZZ8i1KmpOkhIkJStuVJr8qfuo6uauaP9hcnv6eRsfDLfr1freU219QbgEAAIAyJjcrVzs+26GNb23UhZQLqli/ovp83keNhzeWqwcrHzs670BvhTUNU/KaZHV8qaPRcewG5RYAAAAoIy6fuazN723W1ve36sq5K6p2dzX1eLeH6vSuI5MLKx+XJeZIs7Z9uE352fly86LWSZRbAAAAwOFlHMnQxjc3asfnO5R/JV91+9RV22fbqvrdbBVTVpkjzdo0ZVPh3G0HLk2WKLcAAACAwzq546QSJiVoz9w9MrmY1HhEY7V9uq2CGwQbHQ0l7Nf73VJuC1FuAQAAAAditVp1ZNURJUxM0KH/HZKHn4daP9VarZ9sLf8q/kbHQynxCvBSpWaVCve7fdnoNPaBcgsAAAA4AEuBRfti92nDxA06mXhSPqE+6vJ6F7V4qIW8AryMjgcDhEeGa+sHW5m7/RlfAQAAAMCO5V3J0w9f/KCNkzcq43CGgu4IUu+Pe6vJyCYUGidnjjRr01ubdHzzcZk7mo2OYzj+NgAAAAB26Mq5K9o6das2v7tZl9Mvq8pdVdR1UlfV7VtXLq4uRseDHQhvHy6Ti0nJa5Ipt6LcAgAAAHblwtEL2jhlo7Z/sl15WXm6o+cdavtsW4V3CJfJxHY++IVXgJfCmoUpeXUyc7ei3AIAAAB2IW13mhImJShpVpIkKWJohNo+01ahjUINTgZ7Zo40a8v7W5i7FeUWAAAAMIzValXK9ylKmJigg8sPyt3HXS3/2lJtnmqj8tXLGx0PDsAcadbGNzfq+KbjMkeajY5jKMotAAAAUMosBRb9GPejNkzcoNTNqSoXXE6d/t1JLR9pKe8gb6PjwYFUb1/9l7lbyi0AAACA0pCfna+dX+/UxskbdfbAWQXWDFTPqT3V9P6mcvd2NzoeHJBXeS9VurNS4dztv4xOYyzKLQAAAFDCss9na9tH27T5nc26dOqSKt1ZSQPnDFT9AfVZ+Ri3LTwyXFve3aK8K3lO/SYJ5RYAAAAoIZmpmdr09iYl/jdRuRdzVatbLfWf3l81Otdg5WMUG3OkWRsnF87d1uhUw+g4hrmht4kuXbqk3r176/jx45KkOXPmqHfv3oqOjtZzzz2n3NxcSdK+ffsUExOj7t2764UXXlB+fr4k6cSJExo+fLiioqL08MMPKysrq4ReDgAAAGC89H3pihsdp3dqvKNNb21Snd51NG77OI1YMUI1u9Sk2KJYVW/3y9ytM7tuud25c6eGDh2q5ORkSdKRI0f02Wefafbs2Vq8eLEsFotmzpwpSXrmmWf00ksvacWKFbJarZo7d64k6ZVXXtGwYcMUHx+viIgITZ06teReEQAAAGCQYwnHNLvvbE1tMFVJs5PU/C/N9dhPj2nAzAGq1KyS0fFQRnmV91Kl5j/P3Tqx65bbuXPn6uWXX1ZISIgkycPDQy+//LJ8fX1lMplUp04dnThxQqmpqcrOzlbTpk0lSTExMYqPj1deXp62bt2q7t27FzkOAAAAlAVWi1U/LvlRn7f7XJ/f/bmOrj+qji931JMpT6rnez0VWCPQ6IhwAuZIs1I3pyrvcp7RUQxz3ZnbCRMmFPm4SpUqqlKliiTp3LlzmjFjhl5//XWdPn1awcHBttsFBwcrLS1NGRkZ8vX1lZubW5HjNyspKemm7+OsEhMTjY4AAABQ5lnyLEqNT9Whrw/p0uFL8q7krYZPN1S1vtXk5u2m/Uf3S0eNTglnkVclTwW5BVr11SpVbFnR6DiGuOUFpdLS0jR27FgNGDBArVq1UmJiYpHZAavVKpPJZPvz125lxiAiIkKenp63GtdpJCYmqnnz5kbHAAAAKLNyMnOU+EmiNk3ZpIupFxXaOFTdZnRTg0EN5OruanQ8OKmcO3K07e/b5HHCw+H6QE5OTrGczLylcnvo0CGNHTtWI0eO1OjRoyVJYWFhSk9Pt93mzJkzCgkJUVBQkC5evKiCggK5uroqPT3ddokzAAAA4Cgunbqkze9u1tapW5VzIUfmTmb1+ayPanWrxQJRMJynv6cqN6/s1ItK3XS5vXTpksaMGaMnn3xS/fr1sx2vUqWKPD09bWcO4+Li1KFDB7m7u6tFixZavny5oqOjtWjRInXo0KE4XwMAAABQYs4eOKuENxO088udKsgtUIMBDdT22baq0rKK0dGAIsIjw7VpyiblXc6Teznn2+/2psvt/PnzdebMGU2bNk3Tpk2TJHXu3FlPPPGEJk+erBdffFGXLl1Sw4YNNWrUKEnSyy+/rPHjx+vDDz9UpUqV9NZbbxXvqwAAAACKWeqWVG34zwbtW7hPrh6uanp/U7V9uq2CagcZHQ34XeZIsxImJujYxmOq2aWm0XFKnclqtVqNDvFnrl5/zcztjWHmFgAA4NZZrVb9FP+TEiYmKHlNsrwCvNTikRZq9Xgr+Yb6Gh0P+FM5F3P0n8D/qN1z7dT5352NjnPDiqvz3fKCUgAAAEBZsm/hPq15eY1O7z4t/6r+6vZmN9354J3y9OMECxyDp5+nKreorJQ1KUZHMQTlFgAAAE7vp/ifNDdmrirWr6i+X/RVo6GN5OrBysdwPOZIsza+tdEp525djA4AAAAAGCnzeKYWjlyokIgQjds2Tk3va0qxhcMyR5plybPoWMIxo6OUOsotAAAAnJYl36LYobHKu5KnQfMGOd2ZLpQ91e6uJpOrySm3BOKyZAAAADitVS+u0tH1R9V/en9VrFfR6DjAbbs6d+uM5ZYztwAAAHBKB5cf1Ib/bNCdD96pxsMbGx0HKDbmTmalbklVblau0VFKFeUWAAAATufCsQtaOHKhQpuEKuqdKKPjAMXKWeduKbcAAABwKgV5BZp/73wV5BZo0NxBcvdmzhZlS/W7qzvl3C3lFgAAAE5l1QurdHzjcUV/Eq0KdSoYHQcodh6+HqrSsorT7XdLuQUAAIDTOLD0gBImJaj5Q80VMSTC6DhAibHN3V5ynrlbyi0AAACcwvmU81o4aqHCmoUpagpztijbzJFmWfKda+6WcgsAAIAyryC3cM7Wkm/RoLmD5ObFjpgo26q1rSYXNxenmrvlbzUAAADKvJXPrVTq5lQNnDtQQbWDjI4DlDgPXw9Vbulc+91y5hYAAABl2v64/dr01ia1fLSlGg5qaHQcoNSYO5l1YusJp5m7pdwCAACgzMo4kqG4++NU6c5K6vZmN6PjAKXq6tzt0Q1HjY5SKii3AAAAKJOuztlaLVYNnDtQbp5M5MG5ONvcLeUWAAAAZdK3z36rE1tPqM/nfRRUizlbOB8PHw9Vuct59rul3AIAAKDM2bdgnza/s1l3PX6XGgxoYHQcwDDhkeFK3eoc+91SbgEAAFCmZBzOUNzoOFVuWVndJjFnC+dWo1MNWQusOrq+7M/dUm4BAABQZuTn5Gve4HkymUwaOGegXD1cjY4EGKpqm6pycXeOuVvKLQAAAMqM/z39P51MPKm+0/oqsEag0XEAw12du6XcAgAAAA5iz7w92vr+VrV+qrXq9atndBzAbpgjzTqx7YRyLuYYHaVEUW4BAADg8M79dE6LxyxWlbuq6J437jE6DmBXzJ3MTjF3S7kFAACAQ8vPLpyzdXFz0cC5zNkCv1WtTTWnmLtlJ2sAAAA4tBV/W6FTO05pyOIhCggPMDoOYHfcy7mraquqZX6/W87cAgAAwGElzUnStg+3qc3TbVQ3uq7RcQC7FR4ZrhOJJ5STWXbnbim3AAAAcEhnD57VkgeXqGqbquryWhej4wB2zRn2u6XcAgAAwOHkXcnTvEHz5OruWrifrTtztsCfqdq6qlw9XMv03C3lFgAAAA5nxVMrlLYzTf2+6qfy1cobHQewe+7l3FWlVdne75ZyCwAAAIeye9ZuJf43UW2fbas6veoYHQdwGOZIs04mniyzc7eUWwAAADiMMz+e0dJxS1Xt7mrq/Gpno+MADsXcySyrpezO3VJuAQAA4BDyLhfO2bp5uWngbOZsgZt1de72yOojRkcpEZRbAAAAOIRvnvhGp3efVv+v+8u/qr/RcQCH4+7trqqty+5+t5RbAAAA2L1d03dpx6c71O65dqodVdvoOIDDCo8M18ntJ5V9IdvoKMWOcgsAAAC7lr4vXUv/slThHcLV6f86GR0HcGjmyLI7d0u5BQAAgN26Omfr7uOuAbMGyMWNX1+B21GtTTW5eroqeXWy0VGKHT8dAAAAYLeW/3W50vemK2Z6jPwq+xkdB3B4bl5uqtq6apnc75ZyCwAAALv0w5c/6IdpP6j9C+1Vq1sto+MAZYY50qxTO04p+3zZmrul3AIAAMDunN5zWsseXiZzpFmR/4o0Og5QppTVuVvKLQAAAOxKblau5g+eL08/T8XMjJGLK7+yAsWpauuqcvUse/vd8pMCAAAAdsNqtWr5I8uVvi9dMTNj5FeJOVuguLl5ualam2plbr9byi0AAADsxg/TftDOr3aq40sdVbNLTaPjAGVWeGS4Tu44Wabmbim3AAAAsAtpu9O0/NHlqtG5hjr8s4PRcYAyzRxplqxSyrqyc/aWcgsAAADD5V76ec62vKdiZjBnC5S0qq2qys3LrUztd+tmdAAAAAA4N6vVqqUPLdXZA2c1cuVI+Yb5Gh0JKPPcvNxUtU3Z2u+Wt8QAAABgqB2f7dDuGbvV8V8dVaNTDaPjAE7DHGnWqR9O6UrGFaOjFAvKLQAAAAyTtitN3zz2jWreU1Ptn29vdBzAqVyduz26rmzsd0u5BQAAgCFyLuZo3qB58gr0Ys4WMECVVlUK527LyKXJzNwCAACg1FmtVi39y1Kd++mcRq0aJZ8QH6MjAU7HzdNN1dpWKzOLSvH2GAAAAEpd4seJSpqVpE7/7iRzR7PRcQCnFR4ZrlM7T+nKOcefu6XcAgAAoFSd3HFS8U/Eq1b3Wmo3vp3RcQCnVpb2u6XcAgAAoNTkZOZo/uD5KlexnPp/3V8mF5PRkQCnVuWusjN3S7kFAABAqbBarVry4BJlHMnQwNkD5RPMnC1gNDdPN1W7u2zM3VJuAQAAUCq2fbhNe+buUedXO6t6u+pGxwHwM3OkWWm70hx+7vaGyu2lS5fUu3dvHT9+XJKUkJCg6OhodevWTVOmTLHdbt++fYqJiVH37t31wgsvKD8/X5J04sQJDR8+XFFRUXr44YeVlZVVAi8FAAAA9upE4gmteGqF7uh5h+5+9m6j4wD4Fdvc7feOPXd73XK7c+dODR06VMnJyZKk7OxsPf/885o6daqWL1+upKQkrV27VpL0zDPP6KWXXtKKFStktVo1d+5cSdIrr7yiYcOGKT4+XhEREZo6dWrJvSIAAADYlewL2Zo/eL58QnzU78t+zNkCdqZyy8py83b8udvrltu5c+fq5ZdfVkhIiCRp165dCg8PV7Vq1eTm5qbo6GjFx8crNTVV2dnZatq0qSQpJiZG8fHxysvL09atW9W9e/cixwEAAFD2Wa1WLR6zWOdTzmvA7AEqV7Gc0ZEA/Iabp5uq313d4edur1tuJ0yYoBYtWtg+Pn36tIKDg20fh4SEKC0t7ZrjwcHBSktLU0ZGhnx9feXm5lbkOAAAAMq+Le9v0b7YferyehdVv5s5W8BehUeGK21Xmi6fvWx0lFvmdrN3sFgsMpl+uZTEarXKZDL94fGrf/7abz++EUlJSTd9H2eVmJhodAQAAACd33teG/62QSHtQ+QZ6cnvKIAdywnLkSStmrZKlTpVMjjNrbnpchsWFqb09HTbx+np6QoJCbnm+JkzZxQSEqKgoCBdvHhRBQUFcnV1td3+ZkVERMjT0/Om7+dsEhMT1bx5c6NjAAAAJ5d9Plv/HfRf+Vf21/2L7pd3kLfRkQD8iYJGBdr6+Fa5HnMt9T6Rk5NTLCczb3oroCZNmujIkSNKSUlRQUGBli5dqg4dOqhKlSry9PzlHbm4uDh16NBB7u7uatGihZYvXy5JWrRokTp06HDbwQEAAGCfrFar4kbHKfNYpgbOGUixBRyAq4erw+93e9Pl1tPTU2+88YYee+wx9ezZUzVr1lRUVJQkafLkyXr99dcVFRWly5cva9SoUZKkl19+WXPnzlXPnj21bds2Pfnkk8X6IgAA9i8/J1/nfjonS77F6CgAStjmdzZr/8L9uuc/96hq66pGxwFwg8yRZp3efVqXzzjm3K3JarVajQ7xZ66eouay5BvDZckA7NGpH04pdmiszuw/I1dPVwU3CFZo41CFNgkt/LNxqHyCfYyOCaAYpG5J1eftPtcdPe7QvYvuvaW1VgAY41jCMX1+9+caHDtY9WPql9rzFlfnu+mZWwAAbpTVYtXmdzdr5T9WyruCt6LejVLmsUyl7UrToRWHtPPLnbbb+ob5KrRxqEIah9gKb8V6FeXmyT9VgKO4cu6K5g2eJ7/Kfur7RV+KLeBgKreoLPdy7kpek1yq5ba48BsDAKBEXEq7pLj74/RT/E+q26eu+nzW55r9LbNOZyltd5rSdqXp9K7TStuVpi3vbVFBToEkycXNRRXrVSxSesOahMm3ki+/NAN2xmq1Ku6BOF08cVGj14+WdyBztoCjcfVwVfV21ZW8JtnoKLeEcgsAKHY/xf+kRfctUk5mjnpO7akWD7X43TLqE+Kjml1qqmaXmrZjlnyLzh48q7Rdv5Teo+uPavfM3bbbeFfwtp3dvfpfcMNguXu7l8rrA3CtTVM26cfFP6r7291V5a4qRscBcIvCI8O16vlVykrPcriRIcotAKDY5Ofka+X4ldr89maFNArRqFWjFNLw5rZ/c3FzUXD9YAXXD1bEvRG241cyruh00mml7UyzFd/tn2xX3uU8SZLJxaSgO4KuKb3lw8tzlhcoYcc3HdfKf6xUvf711OrxVkbHAXAbzJFmSVLK9ylqMKCBsWFuEuUWAFAs0velK3ZorNJ2pumux+5S14ld5eZVfP/MeAd6K7x9uMLbh9uOWS1WZRzOsJXdtF1pOrn9pPbO22u7jae/p0IahRRZvCokIkSefixSCBSHy2cva97gefKv5q++nzNnCzi6X8/dUm4BAE7FarVq+yfbFf9kvDx8PDR06VDV6VWnVJ7b5GJSUO0gBdUOKrLwRc7FHKXvSdepnadslzbvnr5b2zK32W4TWDPwmgWsAmsGysX1pnfJA5yW1WLVovsWKSstS6M3jJZXgJfRkQDcJlf3wrnblDUpRke5aZRbAMAtu3LuipY8uET7FuxTza411e/LfvKr5Gd0LHn6eapq66pF9te0Wq26cPRCkVnetF1p+nHxj7JaCnfFcy/nrpCIkCKLV4U0CmFhHOAPJLyZoIPLDqrHez1UuUVlo+MAKCbmTmZ999x3Djd3S7kFANyS5DXJWjBigbJOZ6nr5K5q81QbmVzs93JEk8mkgPAABYQHqG50XdvxvCt5St+b/sulzTvTtH/hfu34dIftNv7V/K+Z5a1Qp4Jc3DjLC+d1dMNRfffcd2owsIFaPtrS6DgAipFt7nZtihoMdJxLkym3AICbUpBXoDX/WqP1r69XhTsqaOimoap0ZyWjY90yd293VW5eWZWb/3LWyWq16tLJS0Vmea/uzWvJt0iSXD1dFdwg+JrS6xPiOO9wA7fq8pnLmn/vfAWYAxT9aTRztkAZU6l5Jbn7/Dx3S7kFAJRFGYczFDssVqmbU9VsTDNFvR0lD18Po2MVO5PJJL/KfvKr7KfaUbVtxwtyC3Rm/5lrCu/OL3fabuMT6lN4OfOvZnkr1qsoN0/+yUXZYLVYtXDUQl1Ov6wxG8fIqzxztkBZc3Xu1tH2u+VfWgDADdk1fZeWPbJMLq4uGjh3oBoOamh0pFLn6uFqK6y/lnU6S2m7i87ybnlviwpyCiQVbm9UsV7Faxaw8qvsxxkvOJwNEzfop29+Us8Pejr0VRsA/py5k1nfjf9OWaezHOaqJMotAOBP5WTmaNkjy7R7xm5Vb19dMdNjVL56eaNj2RWfEB/V7FJTNbvUtB2z5Ft09uDZIgtYHV1/VLtn7rbdxjvI21Z4w5qEKbRxqIIbBMu9nLsRLwO4rpR1KVr14io1vLehWjzcwug4AErQ1bnb5LXJDvOGNuUWAPCHjm86rthhsbpw9IIi/y9S7Z9vz1Y5N8jFzUXB9YMVXD9YEfdG2I5fybii07tPF7m0ecenO5R3OU/Sz9sb3RGksCZhCmsWprCmhf/5hvka9VIASVJWepZih8QqsGagoj9mzhYo6yrdWUkevh5KXkO5BQA4MEuBRevfWK81L69R+Wrl9cD3D6ha22pGxyoTvAO9Fd4hXOEdwm3HrBarMg5nFFmxOXVLqvbM3WO7jU+ojyo1q6TQpqEKaxqmSs0qKah2kF2vUI2yw2qxauHIhbp89rLGLhsrT39PoyMBKGGOuN8t5RYAUMSFYxe0cORCpaxNUcSQCPX6qBcLxpQwk4tJQbWDFFQ7SPVj6tuOZ5/P1qmdp3Rqxymd+qHwv8MrD9tWbHb3cS/cj7fpL2d5QyJC5O7NZc0oXuteX6dDKw6p10e9FNY0zOg4AEqJuZNZK/+xUpfSLsk31P6vIKLcAgBs9i3Yp8VjF8uSZ1G/L/up8cjGXHpoIK8AL5k7mmXuaLYdy8/JV/redFvZTfshTbtn7Na2D7dJKizKFetVLHJJc1jTMJWrWM6gVwFHl7w2WWteWqOIoRFqPq650XEAlKJf73fbcLD9X5pMuQUAKDcrVyueWqHtn2xX5RaVNWDWAAXVDjI6Fn6Hm6ebKjWrpErNflml1mqx6nzyeVvhPbXjlFLWpmj3jF8Wr/Kv6q+wpmEKbRqqSs0qKaxpmAJqBPDmBf7UpbRLih0aq6DaQer93958vwBOpsjcLeUWAGDvTv1wSrFDY3XmxzO6e/zd6vRKJ7l6uBodCzfB5GJSYM1ABdYMLHJZ8+Uzl38pvD//d3D5QVktVkmSp7+nrfBePcMb0jCE//8hqXD2fuGIhcrOyNaI+BHy9GPOFnA2Lm4uqt7ecfa7pdwC+F3Z57P145IfVad3HXkHehsdByXAarFq0zub9N3471SuYjmN/HZkka1s4PjKVSynmvfUVM17fvn/Ne9Knk4nnS5ylvfXqzW7uLsouEFwkTnesCZh8gpg7trZrJuwTodXHlb0J9HX7O0MwHmYO5m18lnHmLul3AK4xoVjFzSjxwyl70mXu4+77nzwTrV+srUCwgOMjoZicintkuLuj9NP8T+pbp+66vNZH2YynYS7t7uqtKyiKi2r2I5ZCizKOJShkztO2uZ4D604pJ1f7rTdJsAccM0cr381fy5TLaOOrDqiNf9ao8YjGqvZmGZGxwFgINt+t2uSi2xtZ48otwCKOL3ntKZ3n66czBz1+byPklcla+v7W7XlvS1qOKih2jzdRpWbVzY6Jm7DwW8OKu7+OOVk5qjn1J5q8VALCoqTc3F1UYU6FVShToUiv7hcOnWp6GXNO05p/6L9UuFVzfIO8i5yWXOlZpVUoW4FubpzWbMju3TqkmKHxapi3Yrq9WEvfj4ATq5Ss0ry8POg3AJwLCnrUjS7z2y5ebvpgXUPKKxJmJo90EydX+usze9sVuLHiUqanSRzJ7PaPt1WtaNqs8emA8nPydfKf6zU5nc2K6RRiEatGqWQhiFGx4Id8w3zVe2o2qodVdt2LPdSrtJ2pxXZnmjb1G3Kz86XJLl6uiokIqTIWd7QxqHMazoIS4FFscNilZOZo1ErR8nD18PoSAAM5uLmovD24Q6x3y3lFoCkwi1gYofFKsAcoBHxIxRgDrB9rny18uo2uZs6/LODtn+yXZve3qSZvWYquEGw2jzdRo2GNZKbJz9O7Fn6vnTFDo1V2s403fXYXeo6savcvPj/DDfPw9dD1dpUU7U21WzHLPkWnfnxTJHtifYv3K8dn+4ovIFJCqod9MslzT8XX98wX84K2pnv//29klcnq8/nfRQSwZtfAAqFR4br4PKDunTqknzD7Hfult9sAGjLB1v0zWPfqGqrqhq6dKjKVfj92Uuv8l5q+3RbtXq8lZLmJGnj5I1aPHqxVj2/Snc9fpdaPNSCxafsjNVq1fZPtiv+yXh5+Hho6NKhqtOrjtGxUMa4uLkopGGIQhqGqPHwxpIKv/cupl4scknzycST2jtvr+1+PiE+RReuahqmoDuC5OLqYtRLcWqHVx7W2v9bqyb3NVGzB5izBfCLGp1qSPp57naI/V6aTLkFnJjVatWqF1dp/WvrVSe6jgbOHij3cu7XvZ+rh6uajGyixiMa6/C3h5UwOUGrnl+ldRPW6c6xPy8+9aszvzDG5bOXteTBJdq/cL9qdq2pfl/2k18lP6NjwUmYTCb5V/WXf1V/1en9yxsq2ReylbYzrcgs78a3NsqSZ5EkuZdzV2jj0CJzvCERITf0swm37uLJi1owfIGC6wer5wc9jY4DwM6ENQ2Tp78n5RaAfSrIK9DScUv1wxc/6M4H71Svqb3k4nZzZ0tMJpNqdaulWt1q6dTOU9r45kZt/aBw8akGgxqo7TNtWXzKIEdWH9HCkQuVdTpLXSd3VZun2jAfDbvgVd5L4R3CFd4h3HasILdA6fvSi5zlTZqVpMSPEiUV7uNboW6Fa87y+gT7GPUyyhRLvkWxQ2OVeylX962+Tx4+zNkCKMpR9rul3AJOKDcrV/MGzdNP3/ykjv/qqI4vdbztubewJmHq/1V/dXmtiza9s0mJ/03Unjl7ZI40q83TbXRHjzsoV6WgIK9Aa/61RutfX68Kd1TQ0E1DVenOSkbHAv6Uq4erwpoU7qer+wqPWa1WXUi5UGR7omMbjilpVpLtfn6V/RTcMFiBtQIVVDtIQbWCFFgrUIE1AyloN2HNK2uUsjZF/b7sp+AGwUbHAWCnzJFmHVx2UBdPXrTbK8Eot4CTyUrP0sxeM3Uy8aR6/7e3mo9rXqyP71/VX90mdVOHFzto+6fbtfntzZrVe1bh4lN/b6NGw1l8qqScO3ROC4YtUOqWVDUb00xRb0ex0ikclslkUoA5QAHmANXvX992/PLZy79c1rzjlM7sP6M9c/YoOyO7yP19w3wLS+/Vwvvz/w6qHSTvCt4sZPWzQ/87pHUT1qnpA03VZFQTo+MAsGPmTmZJhXO3jYY2MjbMHzBZrVar0SH+TE5OjpKSkhQRESFPT7YRuJ7ExEQ1b168ZQVlR8bhDE3vPl2ZxzM1cM5A1e1Tt8SfsyCvQHvm7FHC5ASl7UyTb5iv7nrsLrV4mMWnitOu6bu07JFlcnF1Ue+Pe6vhoIZGRwJK1ZWMK8o4lKFzh84V/fOnc7qYerHIbT39PX+3+AbWCpR/VX+nWdAqMzVT/236X/mG+Wrs5rHMNQP4U5YCiyYGTVTDIQ0V/d/oYn3s4up8nD4BnMSJxBOa2XOmLPkWjfpulKq1rXb9OxUDV3dXNR7RWI2GN9LhlYe1cfJGrXphlda9tk7NxjRT6ydbK7BGYKlkKYtyMnO07JFl2j1jt6q3r66Y6TEqX7280bGAUucd6C3vFt6q3OLaOf+8K3k6f+T8NcU3bVea9sftty1mJRVeIh1gDrBd6lykBNcILDNbaF2ds827kqdB8wZRbAFcl4uri8I72Pd+t2XjJzSAP3Xof4c0d8BceQd5a8SKEapYr2KpZzCZTKrVtZZqda2ltF1pSpicoG1Tt2nr+1sLF596uu3v/lKKP3Z803HFDovVhaMXFPl/kWr/fHunOeME3Ax3b3cFNwj+3XlSS4FFmcczde6nosU341CGjq4/qtyLub/c2CT5V/G/5mzv1T8d6WqU1S+t1tF1R9V/en9D/k0A4JjCI8N1YOkBXTxxUX6V7W/ulnILlHG7pu9S3ANxCm4QrOHfDLeLH0ShjUNti09tfnezbfGp8I7havtMWxafug5LgUXr31ivNS+vUflq5fXA9w+U2pl4oKxxcXVRQHiAAsIDpC5FP2e1WnX5zGVb6b1agDMOZejgsoPKSssqcnvvIO8/vNzZr5Kf3fxcO/jNQa1/fb2ajW1m25cYAG7Er/e7bTTM/uZuKbdAGWW1WpUwOUErn10pcyez7l14r7zKexkdqwj/qv7qOrGrOrzYQYmfJNoWn6pYv6La/L2NGg9vXGYuASwuF45d0MIRC5XyfYoihkSo10e97O7/V6CsMJlM8gn2kU+wj6q2rnrN53Mv5Srj8LVzvsc3H9eeeXtkLfhlWRM3LzcF1vzlUudfF9+A8AC5eriWymvKPJ6phSMXKrRxqHq826NUnhNA2RHaJFSe5T0ptwBKj9Vi1Yq/rdDmdzar4eCG6vdVP7teodjT31Nt/95WrR5vpT1z9yhhUoKWjF2iVS+sUqvHW6nFQy3kHeQ4l/uVlH0L9mnx2MWy5FnU78t+ajyyMSu+Agby8PVQaONQhTYOveZzBXkFupBy4Zrim3EoQ4e+PaT8K/m225pcTCpfvfy1lzv/vL1Rca16XpBXoPlD5qsgp0AD5w6UuzdztgBuztW5W3vd79Z+f9sFcEvyc/K1aNQi7Zm7R62ebKXub3a3m0vhrsfV3VWNhzdWo2GNdOS7I0qYnFC4+NSEnxefeso5F5/KzcrViqdWaPsn21W5RWUNmDVAQbWDjI4F4E+4ursWltPf+btqtVp16dQl22rOvy6++2L36crZK0Vu7xPi84eXO/uE+Nzwm1yrXlylYxuOKWZmjCrWZc4WwK0xR5p1YMkBZaZmyr+Kv9FxinCYcnvx5EV5mtkKCPgz2ReyNaffHCWvSVbXSV3V5u9tHPLMnslkUs17aqrmPTWVtitNG9/cqG0fbtPWD7aqwcAGavN0G1VpWcXomKXi5I6Tih0aq7MHzuru8Xer0yudSu3yRQAlw2Qyya+Sn/wq+al6u+rXfD77Qva12xr9lKHktcnaNWOX9KtNHD18Pf7wcufy1crLxa1wkbkDyw4oYWKCmv+lud3uTwnAMZgjzZKklLUpdndpssPsc5twX4KiP4iWuaPZ6Eh2jX1unVdmaqZm9JihM/vOqO8XfcvcIiGZxzO1+b3NSvwoUTmZOQrv8PPiUz3L5uJTVotVm97ZpO/Gf6dyFcup31f9VLNLTaNjATBYfna+zidfu61RxqEMZRzOUEFuge22Lm4utm2NUrekKiA8QGM2jmEtAwC3xVJg0aSKk1R/YH31+aRPsTym0+1z6x3ora/v+Vrdp3RXy0dbOuTZKKCkpO9L14yoGbpy7oqGLR+mWl1rGR2p2PlX9VfX/3RVhxc6aPun27Xp7U2aFT1LFev9vPjUiLKz+NSlU5e06P5FOrTikOr2qas+n/VRuYrljI4FwA64ebmpYr2Kv7t9j6XAooupF3+3+AbWCNSA2QPKzM9JAMax5/1uHebMbR1zHS0bvUw/Lv5RTe9vql4f9uIH9O/gzK3zOZZwTDN7z5Srh6uGLx+uSndWMjpSqSjIK9DeeXuVMClBp344JZ9QH9312F1q8VALlavguEXw4DcHFXd/nHIyc9TtrW5q8VAL3swDAAB2ZeOUjfrf3/6np449Jf+qtz93W1xnbl1uO0kp8fD10L0L71XHf3XUD1/8oGkdpinzeKbRsQBD/bj4R33V5SuVq1BOYxLGOE2xlQoXa2k0rJHGbR+nkStHqlKzSlr94mq9Xf1tLX9suTIOZxgd8abkZ+cr/sl4zew5Uz6hPnpw24Nq+TBXqQAAAPtzde42eW2yoTl+y2HKrVS4VH7ky5G6d9G9OrP/jD5u/rFS1tnf6XCgNCR+nKg5/ecopFGIRieMVmBN51tFWPp58akuNTX8m+F6aNdDajCogRL/m6j37nhP8wbPU+qWVKMjXlf63nR92vpTbX5ns+56/C49uOVBhTQMMToWAADA7wprEiavQC8lr042OkoRDlVur6rXt54e3PKgvAK89FXnr7Tlgy2y86urgWJjtVq1+uXVWvqXpaodVVv3rb5PPsE+RseyC6GNQtXvi3564sgTavN0Gx1acUiftvpUX3T8Qj8u+VFWi339nLBardr23236uMXHuph6UUOXDlWPd3owcgEAAOyaycVkl/vdOmS5laSK9Spq7Jaxqh1VW9/89RstHrNY+dn5178j4MAs+RYtGbdE3//f92r6QFPdu+heefh4GB3L7vhXKVx86qljT6nbW92UcSRDs/vM1tSGU7X90+128bPi8tnLmjtgrpY9tEzV21XXQ7seUp1edYyOBQAAcEPMkWZlHMrQhWMXjI5i47DlVpK8yntpSNwQdXipg36Y9oO+6PgFc7gos/Iu52lO/zna8ekOtX+hvfp81keu7ux3+mc8/T3V5qk2evzQ44qZGSM3bzcteXCJ3g5/W9+/+r0un71sSK4jq4/ooyYf6cDSA+o6uatGxI+QXyU/Q7IAAADcil/vd2svHLrcSoWnxDu90kn3LrxX6XvT9XGLj3V0/VGjYwHF6vKZy/qqy1c6sOyAen7QU51f7cxCQzfB1d1VjYY20rjEcRr13ShVal5Jq/9Z+otPFeQV6Lvnv9NXXb6Sh4+Hxm4aq7Z/b1sm9+kFAABlW2jjUHkFeunI6iNGR7Fx+HJ7Vb1+9TR281h5+nvqy05fauuHW5nDRZlwPvm8Pm/3uU7uOKnB8wer5SMtjY7ksEwmk2p0rqHhy4fr4d0Pq+Hghr8sPjVono5vPl5iz33u0DlNazdN619fr2ajm2lc4jinWt0aAACULSYXk8wdzXa1322ZKbeSFNwgWA9ueVC1utfS8keWa8mDS5SfY/xsHXCrTv1wSp+1+UxZaVka+e1I1Y+pb3SkMiMkIkR9p/XVk8lPqu0zbXXo20P6rPVnmtZhmn5cXLyLT+38eqf+2/S/OnvgrAbOHag+n/aRhy+z0gAAwLGFR4Yr43CGLhy1j7nbMlVuJckrwEtDFw9V+xfba8dnOwrncFOZw4XjObLqiKZ1mCYXNxc9sP4BhbcPNzpSmeRX2U/3vHGPnjr2lLpP6a4LKRc0u+9sfdDgAyV+knhbi09lX8jWghELtGjUIoU1C9NDOx9Sw0ENizE9AACAcextv9syV26lwlPknf/dWYNjByt9T7o+afGJjm5gDheOI2l2kqZHTVdAeIDGbBzDnqelwNPPU62fbG1bfMq9nLuWjluqt8Pf1tp/r73pxaeObzqu/zb7r5JmJyny/yJ13+r7VL56+RJKDwAAUPpCG4XKO8jbbva7LZPl9qr6MfU1dvNYefh66MtOX2rbf7cZHQm4ro1vbVTs0FhVbV1V939/v/yr+hsdyam4uLn8svjUqsLFp9a8tEZTqk3R8r8u17lD5/70/pYCi75/9Xt93u5zySo98P0D6vjPjnJxLdM/bgEAgBMyuZgU3tF+9rt1MzpASQtuEKwHtz6oBcMXaNlDy3Qy8aR6vNdDbp5l/qXDwVgtVn377Lfa+OZG1R9QXzHTY+TmxfepUUwmk2p0qqEanWrodNJpbXxroxI/TtTWqVtVP6a+2j7TVlVbVS1ynwvHLmjhiIVK+T5FEUMi1OujXvIq72XQKwAAACh55kiz9i/cr/Mp5xUQHmBoFqc4leAV4KUhi4eo/Qvttf2T7fqy05e6eOKi0bEAm4LcAi0cuVAb39yolo+21MA5Aym2diQkIkR9Py9cfOruf9ytwysPFy4+1X6a9sftl9Vi1d7YvfqoyUc6uf2k+n3ZTzEzYyi2AACgzLOn/W6d5rdnF1cXdX61s8KahWnRfYv0cfOPNXjBYFVrU83oaHByOZk5mjtgrg6vPKzOr3VWu/Ht2MPWTvlV9tM9r9+j9s+3147Pd2jTlE2a02+O/Cr76eKJi6rcorIGzBqgoNpBRkcFAAAoFSERIfKu4K3kNclqMqqJoVmc4sztrzUY0EBjN42Vu4+7vuj4hRI/TjQ6EpzYpVOX9EXHL3Rk9RH1/aKv2j/XnmLrADz9PNX6idZ6/KfHNWDWAAU3DFb7F9pr9IbRFFsAAOBUru53aw+LSjnNmdtfC4kIKZzDHbZAS/+yVCe3n1SPd3vI1cPV6GhwImcPnNX07tOVlZ6lYUuHqXZUbaMj4Sa5uLkoYkiEIoZEGB0FAADAMOGR4dq3YJ/OJ59XgDnAsBy3deY2Li5OvXr1Uq9evfSf//xHkpSQkKDo6Gh169ZNU6ZMsd123759iomJUffu3fXCCy8oP//W944sDt6B3hq6dKjaPddOif9NLJzDPckcLkrH8c3H9Vnbz5Sblav7Vt9HsQUAAIDDspf9bm+53F65ckUTJkzQ119/rbi4OG3btk2rVq3S888/r6lTp2r58uVKSkrS2rVrJUnPPPOMXnrpJa1YsUJWq1Vz584tthdxq1xcXdTltS4aOHegTv1wSh83/1jHNx03OhbKuAPLDuirzl/Jq7yXxiSMUZWWVYyOBAAAANyykIaFc7cpa4xdVOqWy21BQYEsFouuXLmi/Px85efny9fXV+Hh4apWrZrc3NwUHR2t+Ph4paamKjs7W02bNpUkxcTEKD4+vrhew21rOKihxmwaI3fvwjnc7Z9uNzoSyqgdn+/Q7L6zVbFeRY1OYD4TAAAAjs/kYpI50qwjq48YmuOWy62vr6+eeOIJ9ejRQx07dlSVKlV0+vRpBQcH224TEhKitLS0a44HBwcrLS3t9pIXs9BGoXpw64MyR5q15MElWvrwUhXkFhgdC2WE1WrV969+r8VjFqtml5q6b8198g31NToWAAAAUCzMkWZdSLmg88nnDctwywtK7d+/X7GxsVq9erX8/Pz09NNPKzk5uchKr1arVSaTSRaL5XeP34ykpKRbjXpT6v27nlRJSvwoUYc3Hlbz/zSXV0XH2qsyMZEVoO2JtcCqpIlJSolNUZWeVVT3n3WVdKB0vp8BAACA0pAVnCVJWvPFGlWLNma71Vsut+vXr1ebNm1UoUIFSYWXGn/22Wdydf1lxeH09HSFhIQoLCxM6enptuNnzpxRSEjITT1fRESEPD09bzXuTWlxVwvt6blHcQ/EafOYzRocO1hVW1Utlee+XYmJiWrevLnRMfCzvCt5WjBsgVIWpejuf9ytLq93YasfAAAAlDnWZlZt++s2KVk33UdycnKK5WTmLV+WXK9ePSUkJOjy5cuyWq1atWqVmjRpoiNHjiglJUUFBQVaunSpOnTooCpVqsjT09N2RjEuLk4dOnS47fAlqeHghhqzcYxcPVz1RYcvtOPzHUZHgoO5cu6Kvu76tfbH7VfUO1G65417KLYAAAAok67O3SavTpbVajUkwy2fuW3Xrp327t2rmJgYubu7q1GjRnrsscd0991367HHHlNOTo46duyoqKgoSdLkyZP14osv6tKlS2rYsKFGjRpVbC+ipIQ2DtW4beM0f8h8LR6zWCcSTyhqShT74eK6Lhy9oOlR05VxKEMDZw9Uw8ENjY4EAAAAlKjwyHDtnb9X55PPK7BGYKk/v8lqVK2+QVdPUZfmZcm/Zcm36Lvnv1PCpARVb1ddg+YPstvFgLgs2Xhpu9M0o8cM5V7M1ZC4IbZ9vwAAAICy7PSe0/ow4kP1+byPmj3Q7IbvV1yd75YvS3YmLm4u6jqxqwbMGqATiSf0cfOPlbol1ehYsEPJa5M1rf00ySo9sO4Bii0AAACcRnCDYJULLmfYfreU25sQMSSicA7X3VXTOkzTjmnM4eIXe+bt0fRu0+VX2U9jNo5RaONQoyMBAAAApcZk+mW/WyMuEKbc3qSwJmF6cNuDqt6uuhaPXqzljy1XQR774Tq7ze9t1vx756tyi8oavX60ylcvb3QkAAAAoNSZI83KPJap80fOl/pzU25vQbkK5TQifoTaPN1GW9/fqq/v+VpZp7OMjgUDWK1WrXxupeIfj1fdPnU1cuVIeQd5Gx0LAAAAMMTVsbzkNcml/tyU21vk4uaibpO6KWZGjFK3purj5h/rxLYTRsdCKSrIK1Dc/XHa8MYGNf9Lcw2eP1ju3u5GxwIAAAAMU7F+RZULLke5dUSNhjXSmIQxMrma9Hm7z/XDlz8YHQmlIPdSrmZFz9LOr3Yq8v8i1evDXnJx468TAAAAnNvVudvkNaW/3y2/jReDsKZhGrdtnKrfXV1x98fpm8e/YQ63DLuUdklfRH6hwysPK/qTaHX8Z0eZTCajYwEAAAB2wdypcO4243BGqT4v5baYlKtYTiNWjFDrv7XWlve26OuuzOGWRed+OqfP7/5c6XvTNWTREN059k6jIwEAAAB2xai5W8ptMXJxc1H3N7ur//T+St2cqo9bfKwTiczhlhUntp3QZ20/U/b5bN236j7V6V3H6EgAAACA3alYr6J8QnxKfb9bym0JaDy8sUZvGC2TyaRp7aZp59c7jY6E2/RT/E/6IvILefh4aPSG0arauqrRkQAAAAC7ZNTcLeW2hFS6s5Ie3PagqrapqkWjFin+yXjmcB3Uzq92alb0LAXVDtLohNGqWLei0ZEAAAAAu2buZFbm8UxlHCq9uVvKbQnyCfbRyP+NVKsnW2nzO5s1vdt0ZaUzh+sorFar1r+xXovuW6TwjuF64PsH5FfJz+hYAAAAgN0zYu6WclvCXNxcFDUlSv2+6qfjm47rkxaf6OT2k0bHwnVYCiz65vFv9N1z3yliaISGLx8uT39Po2MBAAAADqFC3QryCfWh3JZFTUY20egNo2W1WvX53Z9r14xdRkfCH8jPzlfskFhtfX+r2vy9jWKmx8jVw9XoWAAAAIDDMGLulnJbiirdWUnjto1TlVZVtHDEQq342wpZ8i1Gx8KvZJ/P1vTu07V3/l51e7Obuk3uJpMLe9gCAAAAN8vcyayLqRd17qdzpfJ8lNtS5hPio5HfjtRdj9+lTVM2aXr36bp85rLRsSAp83imprWfpmMbjylmZoza/K2N0ZEAAAAAh1Xac7eUWwO4uruqxzs91O/Lfjq64ag+bvGxTu5gDtdI6XvT9Vnbz3Q+5byGfzNcjYY2MjoSAAAA4NAq1Kkg3zDfUtvvlnJroCajmmj0+tGyFhTO4e6eudvoSE7p6Pqj+rzd57LkWfTA9w+oZpeaRkcCAAAAHF5pz91Sbg1WuUVljUscpyotq2jB8AX639P/Yw63FO1buE9fd/1aPsE+Gp0wWmFNw4yOBAAAAJQZ5k5mXTxxUecOlvzcLeXWDviE+GjkypG667G7tPHNjZoeNV2XzzKHW9K2frhV8wbOU2iTUI3eMFqBNQKNjgQAAACUKaU5d0u5tROu7q7q8W4P9Z3WV0fXH9UnLT7RqZ2njI5VJlmtVq16cZWWP7Jcd/S8Q6O+G6VyFcsZHQsAAAAoc4LuCJJvJd9SKbduJf4MuClN72+q4IbBmtN/jj5r85n6ft5XEUMijI7lkKwWqy6evKjzR84r40iGzief1/kj55W+J12pW1LVbEwz9f6ot1zceI8HAAAAKAm/nbs1mUpum03KrR2q0rKKxiWO07xB8xQ7NFYnt59Ul9e6UMJ+w2q16sq5K7+U11/9ef7IeZ1POa+CnIIi9/Gr7KeAGgHqOqmr2vy9TYn+5QIAAABQeGly0qwknTt4ThXqVCix56Hc2infUF+NWjlKK/62QgmTEnTqh1MaOHugvIO8jY5WqnIv5f5ucb16Jjb3Ym6R23sHeSugRoBCG4eqbt+6CqgRoMAagQqoEaCA8AC5efEtDwAAAJQmcyezJOnI6iOUW2fl6uGqnu/3VKXmlbTsoWX6uMXHGrJoiEIbhxodrdjk5+TrQsqFX4pr8vkiRfbymaILa7n7uNvKqrmT+Zfiai4ssZ7+nga9EgAAAAC/J6h2kPwq+yllTYpa/KVFiT0P5dYBNHugmUIahmhOzM9zuNP6quHghkbHuiGWAosupl78w7OvF09clH615ZWrh6vKh5dXYI1AhTULs5XXq3+Wq1iOS4kBAAAAB3J17vbIqiMlOndLuXUQVe6qonHbCudw5987XycSTxTO4boaO4drtVqVdTrr9+dek8/rwtELsuT9at9ek+Rf1V+BNQJV856aRYprYI1A+VX2k8mF8goAAACUJeGR4do9c7fOHjirinUrlshzUG4diG+Yr0Z9N0rxT8YrYWKC0n5I04BZA0p8Djf7fHaR1YaLLNqUfF55l/OK3N4nxEcBNQJUpWUVNRzc8JcCaw5Q+erl5erhWqJ5AQAAANiXGp1qSJKSVydTblHI1cNVvab2UqXmlbT8keX6pOUnunfRvQptdOtzuHlX8n63uF7939nns4vc3tPfUwE1AlShTgXV6l6r6KJN5gB5+Hjc7ssEAAAAUIYE1gqUXxU/Ja9JVouHSmbulnLroO4cc6dCGoZo7oC5+qz1Z+r7RV81HPT7c7gFeQXKPJb5u5cNnz9yXpdOXSpyezcvNwWYAxRQI0BV21S9Zu7VK8CLuVcAAAAAN+zq3O3hlYdLbO6WcuvAqrauqge3Pah5A+dp/uD5Sn06VVf8r+jS8ktFzr5mHs+UteCXVZtMriaVr164aNMdve6wFdmr5dU31Je5VwAAAADFyhxp1u4Zu3X2x7OqWK/4L02m3Do4v0p+um/1ffrmiW+0cfJG23HfSr4KrBGo6u2qX7Nok39Vf7m4GbsQFQAAAADn8uv9bim3+F2uHq7q/WFvtXy4pfYf3K+2PdvK3dvd6FgAAAAAYBNYs/BEW8qaFLV8uGWxPz6n78qQ0Mah8jX7UmwBAAAA2J2rc7fJa5JltVqvf4ebRLkFAAAAAJSK8MhwZZ3O0pn9Z4r9sSm3AAAAAIBS8ev9bosb5RYAAAAAUCoCagTIv5q/ktckF/tjU24BAAAAAKWiJOduKbcAAAAAgFJjjjTrcvplndlXvHO3lFsAAAAAQKkxR5olqdgvTabcAgAAAABKTUCNAJWvXr7YF5Wi3AIAAAAASk1Jzd1SbgEAAAAApSo8MlyXz1xW+t70YntMyi0AAAAAoFSVxNwt5RYAAAAAUKoCawSqfHjxzt1SbgEAAAAApc4caVbK2hRZLcUzd0u5BQAAAACUOnOkWZfPXNa5n84Vy+NRbgEAAAAApe7q3O3xTceL5fEotwAAAACAUhdgDlCAOUDHN1JuAQAAAAAOzBxp1vHNlFsAAAAAgAMLjwxXdkZ2sTwW5RYAAAAAYIirc7fFgXILAAAAADBEQHiA/Kv5F8tjUW4BAAAAAIbp9EqnYnkcyi0AAAAAwDDmTuZieZzbKrerVq1STEyMevTooVdffVWSlJCQoOjoaHXr1k1Tpkyx3Xbfvn2KiYlR9+7d9cILLyg/P//2kgMAAAAA8LNbLrfHjh3Tyy+/rKlTp2rx4sXau3ev1q5dq+eff15Tp07V8uXLlZSUpLVr10qSnnnmGb300ktasWKFrFar5s6dW2wvAgAAAADg3G653H777bfq2bOnwsLC5O7urilTpsjb21vh4eGqVq2a3NzcFB0drfj4eKWmpio7O1tNmzaVJMXExCg+Pr64XgMAAAAAwMm53eodU1JS5O7uroceekgnT55UZGSk7rjjDgUHB9tuExISorS0NJ0+fbrI8eDgYKWlpd3U8yUlJd1qVKeTmJhodAQAAAAAKFW3XG4LCgq0bds2ff311ypXrpwefvhheXl5yWQy2W5jtVplMplksVh+9/jNiIiIkKen563GdRqJiYlq3ry50TEAAAAA4Ibk5OQUy8nMWy63FStWVJs2bRQUFCRJuueeexQfHy9XV1fbbdLT0xUSEqKwsDClp6fbjp85c0YhISG3ERsAAAAAgF/c8sxtp06dtH79emVmZqqgoEDr1q1TVFSUjhw5opSUFBUUFGjp0qXq0KGDqlSpIk9PT9vlsnFxcerQoUOxvQgAAAAAgHO75TO3TZo00dixYzVs2DDl5eXp7rvv1tChQ1WzZk099thjysnJUceOHRUVFSVJmjx5sl588UVdunRJDRs21KhRo4rtRQAAAAAAnJvJarVajQ7xZ65ef83M7Y1h5hYAAACAIymuznfLlyUDAAAAAGAvKLcAAAAAAIdHuQUAAAAAOLxbXlCqtFwdCc7NzTU4iePIyckxOgIAAAAA3JCrXe92l4Oy+3Kbl5cnSTpw4IDBSRxHcWyADAAAAAClKS8vT15eXrd8f7tfLdlisSgrK0vu7u4ymUxGxwEAAAAAFCOr1aq8vDz5+PjIxeXWJ2ftvtwCAAAAAHA9LCgFAAAAAHB4lFsAAAAAgMOj3AIAAAAAHB7lFgAAAADg8Ci3AAAAAACHZ3i5PX78uCIiItS3b1/17dtX3bt313PPPaczZ84YHQ0O6rffU1f/O3ny5O/e/r333tN7771Xyintw/Hjx1W3bl299NJLRY7v27dPdevW1YIFCwxKZr8OHDigunXrasWKFUZHsTt8P92aBQsWaPz48UbHcBjX+3qNHz/eqb/X+Bn15+Lj4xUTE6M+ffooOjpan376qdGR7FpWVpZeeeUVde3aVX369NGwYcO0cePGP7z9xYsX9eijj5ZiQuNd/bdvw4YNRY537txZx48fNyiV/SmtzudWrI92i0JCQhQXFyepcI+jt956S48//rhmzpxpcDI4ql9/T+HPBQQEaN26dSooKJCrq6skafny5QoKCjI4mX2KjY1VVFSU5syZo+7duxsdx+7w/QQYi59RfywtLU3/+c9/tGDBAgUGBiorK0sjR45UjRo11KVLF6Pj2R2r1aqHHnpI9evX17Jly+Th4aG9e/dq3LhxevPNN9WqVatr7nPhwgXt27fPgLTGcnd31z//+U8tXrxYvr6+RsexW6XR+Qw/c/tbJpNJjz32mA4ePKj9+/fr448/Vv/+/dWnTx9NnDhRV7fl/eKLL9S9e3f17NlTkyZNMjh16eOd/pt35swZPfLII4qJidGAAQOUkJBg+9yuXbs0aNAg9erVS19++aWBKUufj4+P6tevr61bt9qObdiwQW3btpUkTZ8+XYMGDVLv3r3Vv39/HT58WFLhO5JPPvmkunfvrrNnzxqSvbTl5eVpyZIlevLJJ7Vnzx4dPXpUUuHXYuLEierXr5/69eunvXv3SpJGjhypv/71r+revbvT/GN/K99PGzdu1JAhQ2y3X7BggV5++eVSz260kSNHavPmzZIK3+Hu3LmzpMIzka+++qqGDh2qzp07KzY21siYduOPvl7O7M9+Rl09g7R582aNHDlSUuFZ3piYGPXt21f//ve/1bVrV8Oyl4aMjAzl5eUpOztbUuHPqzfeeEO1a9fWrl27NHToUPXv31+jR4/WsWPHJBV+n02YMEH9+/dXz549tX79eiNfQqnasmWLTpw4oeeee04eHh6SpAYNGujhhx/W1KlTtW/fPg0aNEjR0dEaMWKETp06pVdffVWnT592urO3ISEhatu2rf7zn/9c87mPPvpIPXv2VHR0tN544w0VFBTo9ddf1+eff267zWOPPaZvv/22NCMbrqQ6n92VW0ny8PBQeHi49u/fr6SkJM2fP1+LFi1SWlqaFi9erF27dmnmzJmaP3++Fi9erD179igpKcno2LAjp0+fLnJJ8qeffqoJEyZowIABWrBggT788EO99NJLunTpkiQpPT1dX375pebMmaMZM2Y4TRG5qkePHrZL2Hbt2qW6devK3d1dly5d0sqVK/X1119r6dKlioyM1IwZM2z369Chg1asWKEKFSoYFb1UrV27VpUrV1aNGjV0zz33aM6cObbPlStXTosWLdLjjz+uf/zjH7bjVy8PrF+/vhGRDXGz30+tW7dWenq67RfxRYsWKSYmxsiXYHdOnTqlmTNn6sMPP9TEiRONjgM79Wc/o37P+PHj9cQTTyguLk7VqlVTQUFBKSU1Rr169dSlSxfdc889GjhwoCZNmiSLxaJKlSrpxRdf1JtvvqmFCxfqgQce0D//+U/b/S5duqSFCxfqzTff1Pjx45Wbm2vgqyg9u3fvVkREhEwmU5HjLVu21O7du/X000/rkUce0ZIlS9SzZ099+eWXevHFFxUSEqIPPvjAoNTGGT9+vNavX1/k8uTvv/9eq1atUmxsrBYuXKiUlBTNnj1bffv21dKlSyUVfn/t2LFDHTt2NCq6YUqi89nFZcm/x2Qy6auvvtK5c+dsv+RkZ2ercuXKOnPmjDp16iQ/Pz9JhY3eWW3ZskVTpkxRdna2MjMz9dxzz+mee+7R+PHj5evrqz179igtLU2PPvqoBgwYYHTcUvN7lyW3atVKhw8f1rvvvitJys/Pt70z27NnT5UrV06S1KlTJ23ZssWpykjnzp319ttvy2Kx6JtvvlGPHj20fPly+fr66s0339SyZcuUnJysdevWFfm6NGnSxMDUpS82Nla9e/eWVPg98/TTT+uJJ56QJA0ePFhS4ddy/PjxOnfunCSpcePGxoQ10M1+P5lMJvXv31+LFy9WTEyMzp4963TfW9dz9913y2QyqU6dOjp//rzRcWCn/uxn1G+dP39eqamptl+oBwwYoK+++qrUshrllVde0SOPPKL169dr/fr1Gjx4sMaNG6djx47p4Ycftt3u6pvf0i8/3+vXr6/g4GD9+OOPatSoUalnL20mk+l33/DIy8uTxWJRenq6OnXqJEkaNmyYJDn1jKmvr6/+/e9/2y5PlqRNmzapV69e8vb2llT492zRokUaPny4cnNzlZKSoh07dqhz5862s+POprg7n12W29zcXB05ckStWrVSdHS0HnjgAUlSZmamXF1dNX/+/CLvIqWlpcnb21v+/v5GRTbM9OnT9eqrr6pWrVrauHGjXnvtNd1zzz2Sfnmn/8CBAxo1apRTldvfY7FY9OWXXyogIEBS4dndChUqaOXKlXJzcytyu19/7Ax8fHxUr149JSYmatOmTfr73/+u5cuX6+TJk7r33ns1YsQIdejQQRUrVixyVtvT09PA1KXr7NmzWrdunfbs2aOvvvpKVqtVmZmZtsuIfvs9dHXe1MvLy5C8RrqV76f+/ftr7Nix8vDwUN++fQ1+BSVv27ZtqlatmkJDQ2W1Wm3fL1cvw8rPzy9y+6t/1357BsVZ3OzXyxld72fUb79Wrq6utmPOYs2aNbp8+bJ69uypAQMGaMCAAZo7d66WLFmiqlWr2t4ULygoKLLIzdXvN8m5fkdo0qSJvv76a+Xl5cnd3d12/IcfflCjRo104MAB27GcnBydPn3aaX9GXdWuXbsilydbLJZrbnP172CfPn20fPly7dixQ+PGjSvVnPaiJDqf3V2WbLFY9N5776lJkyYaMGCA4uLilJWVpfz8fD366KNasWKFWrRoobVr19qO//3vf3fay5InTZqkgwcP6oMPPtC0adOUlZVl+xzv9BfVunVr28D6Tz/9pOjoaF25ckWStGLFCuXm5urChQtas2aNWrdubWRUQ/To0UNvvvmmIiIibP9wlytXTuHh4br//vvVqFEjrVy5ssxftvZH4uLi1Lp1a9slRqtXr9ZDDz2k2bNnS5KWLVsmSfr2229Vq1YtlS9f3si4hrvZ76cqVaooLCzMdrlWWRcbG6uVK1dKkn788UdVq1ZNgYGB+umnnyTJ9jkU4ut1fX/2M+rXX6vvvvtOkuTn56dq1app7dq1kqQlS5YYlr20eHl56c0337SdXbRardq3b5+aNm2qCxcuaNu2bZIKv9+efvpp2/2WL18uqfAy3czMTNWpU6f0wxugRYsWql27tl577TXl5eVJkpKSkvThhx/qr3/9q0JDQ20zyHFxcXrnnXfk5ubm9G82Xb08+fTp02rdurWWLVum7Oxs5efnKzY21vY7ZnR0tJYvX66UlBQ1b97c4NSlr6Q6n1289XR1PlIqfKH169fXW2+9pfLly2v//v0aPHiwCgoK1L59e/Xv318mk0kjRozQkCFDZLFY1LVrV9tiJWXZ771zPWzYMLVq1UqtWrVSmzZtivwwdvZ3+n/rxRdf1EsvvaTo6GhJ0sSJE20r2lWuXFlDhgxRTk6O/vKXv6hWrVpGRjVEp06d9MILLxS5hM3d3V0Wi0U9e/aU1WpVy5YtdfDgQQNTGmfhwoV66qmnihwbPny4Pv30U/n6+mr79u2aP3++vL299cYbbxiU0n7cyvdTz5499b///U+hoaFGRC5V48aN07PPPqvp06crLCxMb7/9tlJSUjR+/HjFxsaycutv8PW6vj/7GfXss89qwoQJev/999WuXTvb5ydOnKjnn39eb7/9turWrVvmrzRp3bq1/vrXv+qhhx6ylbX27dvrscceU+fOnTVhwgTl5OTI19e3yMJAx44dU//+/SVJU6ZMKXImt6x7//33NWXKFPXu3Vuurq4qX768Jk2apFatWmnSpEn617/+pUmTJikwMFATJ05UYGCgKleurJEjR+rrr782Or4hrl6ePGbMGEVGRiozM1MDBgxQfn6+2rVrpxEjRkiSKlWqpMDAQDVr1sxpflcvjc5nsjrbNSkO7LnnnlNERISGDx+u1157TUFBQfrkk0+UkJAgDw8PTZ48WUuXLtXatWs1fvx43XXXXbZr1+vWrasff/zR4FcAlE2dO3fWV199papVqxodxWHl5+fr2WefVVRUlLp162Z0HMApvP/++xo8eLBCQkL0v//9T0uWLHHafd//yNVV739v2xsA9scuztzixvzeO9cZGRnq1auX3Nzc1Lp1a2VnZ+vy5ctGRwWAG2a1WtW+fXu1bdvWtmYAgJJXuXJljR49Wm5ubvL399eECROMjgQAt4UztwAAAAAAh2d3C0oBAAAAAHCzKLcAAAAAAIdHuXUA77//vnr16qVevXpp4sSJkqSEhARFR0erW7dumjJlyjX3efbZZ7VgwYIix+bNm6fx48eXSmYAAAAAKE2UWzuXkJCg9evXa+HChVq0aJH27NmjpUuX6vnnn9fUqVO1fPlyJSUl2fapS0tL00MPPaQVK1bYHiMnJ0eTJ0/Wa6+9ZtTLAAAAAIASRbm1c8HBwRo/frw8PDzk7u6uWrVqKTk5WeHh4apWrZrc3NwUHR2t+Ph4SYWbsHfp0kU9evSwPcbWrVtlsVj0zDPPGPUyAAAAAKBEUW7t3B133KGmTZtKkpKTk/XNN9/IZDIpODjYdpuQkBClpaVJksaOHatBgwYVeYx27drp2WefLfObswMAAABwXpRbB3Hw4EGNHj1azz77rKpVqyaTyWT7nNVqLfIxAAAAADgbyq0DSExM1P3336+///3v6t+/v8LCwpSenm77fHp6ukJCQgxMCAAAAADGotzauZMnT+rRRx/V5MmT1atXL0lSkyZNdOTIEaWkpKigoEBLly5Vhw4dDE4KAAAAAMZxMzoA/txnn32mnJwcvfHGG7ZjQ4YM0RtvvKHHHntMOTk56tixo6KiogxMCQAAAADGMlmtVqvRIQAAAAAAuB1clgwAAAAAcHiUWwAAAACAw6PcAgAAAAAcHuUWAAAAAODwKLcAAAAAAIdHuQUA4A907txZu3fvLtbHfOGFF5SQkHBL9928ebMaN26svn37qm/fvoqOjtaoUaNu+PFefPFFJSUl3dJzAwBg79jnFgCAUjRhwoTbun/16tUVFxdn+3j//v0aM2aMpk6dqiZNmvzpfRMSEnTvvffe1vMDAGCvOHMLAMB1NGrUSO+9956GDBmizp07a+bMmZKkIUOGaMWKFbbbTZo0SZMmTZIkffDBB+rZs6eio6P1+OOPKz09XZI0cuRIxcfHS5JWr15tOwN77733av/+/ZKk7du3a9iwYerfv78GDBig1atX/2G2evXqaeTIkfriiy8kST/88IOGDx+uQYMGKTIyUs8//7wkacqUKTp9+rSefvpp7dy5UxcvXtT48eMVExOj6Ohovfbaa8rPzy/eLxwAAKWIcgsAwHXk5uYqMDBQs2fP1rvvvqvXX39dOTk5GjRokBYsWCBJKigo0OLFizVo0CDFxsZq3bp1mj9/vpYsWaI77rhD48ePL/KYZ86c0TPPPKPXX39dS5Ys0ZgxYzR58mRduHBBzz33nCZOnKiFCxdq6tSp+te//qUTJ078Yb569erpwIEDkqSvvvpKjz/+uObNm6dly5Zp1apVSkpK0lNPPaWQkBBNnjxZTZo00WuvvaaGDRtqwYIFWrRokTIyMjRt2rSS+yICAFDCuCwZAIAb0KVLF0lSw4YNlZubq8uXL6tnz56aOHGi0tPTtXfvXpnNZpnNZk2ZMkUxMTEqV66cJGnUqFH66KOPlJuba3u87du364477lCDBg0kSd26dVO3bt20du1apaen69FHH7Xd1mQy6ccff7Q93m+ZTCZ5eXlJkt544w19//33+uijj3T48GHl5OTo8uXL19xnzZo12r17t+bPny9Jys7OLoavEgAAxqHcAgBwAzw9PSUVFklJslqt8vb2Vvfu3bV06VLt2LFDgwYNkiRZLBbb7a5+/NtLfl1dXYvcxmq16scff1RBQYFq1aqlefPm2T6XlpamoKAgbd++/Xez7d69W3Xq1JEkjRgxQnXr1lX79u3Vo0cP7dy5U1ar9Zr7WCwWvfPOO6pVq5YkKTMzs0geAAAcDZclAwBwGwYPHqyFCxdq+/bt6t69uySpffv2io2NtZ0x/frrr9WyZUt5eHjY7tekSRMdOnRIBw8elCR99913euaZZ9S0aVOlpKRo69atkqR9+/ape/fuSktL+93n37Vrl2bNmqX77rtPmZmZ2r17t55++ml169ZNp06d0tGjR2WxWCQVFuqrJbtdu3b64osvZLValZubq4cffljTp08vmS8SAAClgDO3AADchoiICLm6uioqKsp2dnfgwIE6efKkBg0aJIvFovDwcE2ePLnI/SpWrKjJkyfrH//4hwoKCuTr66spU6YoKChI7777riZOnKicnBxZrVZNnDhRVatWVWpqqo4ePaq+fftKklxcXOTr66vJkyerXr16kqRx48apf//+KleunEJDQ3XnnXcqJSVFbdq0UdeuXfXMM8/oX//6l1544QVNmDBB0dHRysvLU9u2bTV27NjS/eIBAFCMTNbfu1YJAAAAAAAHwmXJAAAAAACHR7kFAAAAADg8yi0AAAAAwOFRbgEAAAAADo9yCwAAAABweJRbAAAAAIDDo9wCAAAAABwe5RYAAAAA4PD+H0Gw6T4FtcJJAAAAAElFTkSuQmCC\n",
      "text/plain": [
       "<Figure size 1152x432 with 1 Axes>"
      ]
     },
     "metadata": {},
     "output_type": "display_data"
    }
   ],
   "source": [
    "UK_sales.resample('M').CustomerID.nunique().plot(color = 'purple')"
   ]
  },
  {
   "cell_type": "markdown",
   "metadata": {},
   "source": [
    "Number of transactions per each month"
   ]
  },
  {
   "cell_type": "code",
<<<<<<< HEAD
   "execution_count": 33,
=======
   "execution_count": 34,
>>>>>>> 0e56f8f999e91aa0e6b11b0ed3da6fbbe8392dba
   "metadata": {
    "scrolled": false
   },
   "outputs": [
    {
     "data": {
      "text/plain": [
       "<AxesSubplot:xlabel='InvoiceDate'>"
      ]
     },
<<<<<<< HEAD
     "execution_count": 33,
=======
     "execution_count": 34,
>>>>>>> 0e56f8f999e91aa0e6b11b0ed3da6fbbe8392dba
     "metadata": {},
     "output_type": "execute_result"
    },
    {
     "data": {
      "image/png": "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\n",
      "text/plain": [
       "<Figure size 1152x432 with 1 Axes>"
      ]
     },
     "metadata": {},
     "output_type": "display_data"
    }
   ],
   "source": [
    "UK_sales.resample('M').InvoiceNo.count().plot(color = 'purple')"
   ]
  },
  {
   "cell_type": "markdown",
   "metadata": {},
   "source": [
    "Analysis of revenue over time"
   ]
  },
  {
   "cell_type": "code",
<<<<<<< HEAD
   "execution_count": 34,
=======
   "execution_count": 35,
>>>>>>> 0e56f8f999e91aa0e6b11b0ed3da6fbbe8392dba
   "metadata": {
    "scrolled": true
   },
   "outputs": [
    {
     "data": {
      "text/plain": [
       "<AxesSubplot:xlabel='InvoiceDate'>"
      ]
     },
<<<<<<< HEAD
     "execution_count": 34,
=======
     "execution_count": 35,
>>>>>>> 0e56f8f999e91aa0e6b11b0ed3da6fbbe8392dba
     "metadata": {},
     "output_type": "execute_result"
    },
    {
     "data": {
      "image/png": "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\n",
      "text/plain": [
       "<Figure size 1152x432 with 1 Axes>"
      ]
     },
     "metadata": {},
     "output_type": "display_data"
    }
   ],
   "source": [
    "df = UK_sales.resample('W').Revenue.sum()\n",
    "df.plot(color = 'purple')"
   ]
  },
  {
   "cell_type": "code",
<<<<<<< HEAD
   "execution_count": 35,
=======
   "execution_count": 36,
>>>>>>> 0e56f8f999e91aa0e6b11b0ed3da6fbbe8392dba
   "metadata": {
    "scrolled": true
   },
   "outputs": [
    {
     "data": {
      "text/plain": [
       "InvoiceDate\n",
       "2010-12-05    130624.22\n",
       "2010-12-12    181773.99\n",
       "2010-12-19    142347.57\n",
       "2010-12-26     29053.96\n",
       "2011-01-02         0.00\n",
       "2011-01-09     93264.33\n",
       "2011-01-16    107114.89\n",
       "2011-01-23     63497.51\n",
       "2011-01-30     76535.59\n",
       "Freq: W-SUN, Name: Revenue, dtype: float64"
      ]
     },
<<<<<<< HEAD
     "execution_count": 35,
=======
     "execution_count": 36,
>>>>>>> 0e56f8f999e91aa0e6b11b0ed3da6fbbe8392dba
     "metadata": {},
     "output_type": "execute_result"
    }
   ],
   "source": [
    "df['12-2010':'01-2011']"
   ]
  },
  {
   "cell_type": "markdown",
   "metadata": {},
   "source": [
    "From the above, we can conclude that during the New Year holidays, the store was closed and did not process orders, so there were no sales."
   ]
  },
  {
   "cell_type": "markdown",
   "metadata": {},
   "source": [
    "Determination of AOV indicator by month  \n",
    "The formula for calculating AOV is revenue divided by number of orders\n",
    "AOV - average check per customer "
   ]
  },
  {
   "cell_type": "code",
<<<<<<< HEAD
   "execution_count": 36,
=======
   "execution_count": 37,
>>>>>>> 0e56f8f999e91aa0e6b11b0ed3da6fbbe8392dba
   "metadata": {},
   "outputs": [],
   "source": [
    "UK_sales['InvoiceMonth'] = UK_sales['InvoiceDate'].dt.strftime('%Y-%m')"
   ]
  },
  {
   "cell_type": "code",
<<<<<<< HEAD
   "execution_count": 37,
=======
   "execution_count": 38,
>>>>>>> 0e56f8f999e91aa0e6b11b0ed3da6fbbe8392dba
   "metadata": {},
   "outputs": [
    {
     "data": {
      "text/html": [
       "<div>\n",
       "<style scoped>\n",
       "    .dataframe tbody tr th:only-of-type {\n",
       "        vertical-align: middle;\n",
       "    }\n",
       "\n",
       "    .dataframe tbody tr th {\n",
       "        vertical-align: top;\n",
       "    }\n",
       "\n",
       "    .dataframe thead th {\n",
       "        text-align: right;\n",
       "    }\n",
       "</style>\n",
       "<table border=\"1\" class=\"dataframe\">\n",
       "  <thead>\n",
       "    <tr style=\"text-align: right;\">\n",
       "      <th></th>\n",
       "      <th>InvoiceNo</th>\n",
       "      <th>StockCode</th>\n",
       "      <th>Description</th>\n",
       "      <th>Quantity</th>\n",
       "      <th>InvoiceDate</th>\n",
       "      <th>UnitPrice</th>\n",
       "      <th>CustomerID</th>\n",
       "      <th>Country</th>\n",
       "      <th>Revenue</th>\n",
       "      <th>InvoiceMonth</th>\n",
       "    </tr>\n",
       "    <tr>\n",
       "      <th>InvoiceDate</th>\n",
       "      <th></th>\n",
       "      <th></th>\n",
       "      <th></th>\n",
       "      <th></th>\n",
       "      <th></th>\n",
       "      <th></th>\n",
       "      <th></th>\n",
       "      <th></th>\n",
       "      <th></th>\n",
       "      <th></th>\n",
       "    </tr>\n",
       "  </thead>\n",
       "  <tbody>\n",
       "    <tr>\n",
       "      <th>2010-12-01 08:26:00</th>\n",
       "      <td>536365</td>\n",
       "      <td>85123A</td>\n",
       "      <td>white hanging heart t-light holder</td>\n",
       "      <td>6</td>\n",
       "      <td>2010-12-01 08:26:00</td>\n",
       "      <td>2.55</td>\n",
       "      <td>17850</td>\n",
       "      <td>United Kingdom</td>\n",
       "      <td>15.30</td>\n",
       "      <td>2010-12</td>\n",
       "    </tr>\n",
       "    <tr>\n",
       "      <th>2010-12-01 08:26:00</th>\n",
       "      <td>536365</td>\n",
       "      <td>71053</td>\n",
       "      <td>white metal lantern</td>\n",
       "      <td>6</td>\n",
       "      <td>2010-12-01 08:26:00</td>\n",
       "      <td>3.39</td>\n",
       "      <td>17850</td>\n",
       "      <td>United Kingdom</td>\n",
       "      <td>20.34</td>\n",
       "      <td>2010-12</td>\n",
       "    </tr>\n",
       "    <tr>\n",
       "      <th>2010-12-01 08:26:00</th>\n",
       "      <td>536365</td>\n",
       "      <td>84406B</td>\n",
       "      <td>cream cupid hearts coat hanger</td>\n",
       "      <td>8</td>\n",
       "      <td>2010-12-01 08:26:00</td>\n",
       "      <td>2.75</td>\n",
       "      <td>17850</td>\n",
       "      <td>United Kingdom</td>\n",
       "      <td>22.00</td>\n",
       "      <td>2010-12</td>\n",
       "    </tr>\n",
       "    <tr>\n",
       "      <th>2010-12-01 08:26:00</th>\n",
       "      <td>536365</td>\n",
       "      <td>84029G</td>\n",
       "      <td>knitted union flag hot water bottle</td>\n",
       "      <td>6</td>\n",
       "      <td>2010-12-01 08:26:00</td>\n",
       "      <td>3.39</td>\n",
       "      <td>17850</td>\n",
       "      <td>United Kingdom</td>\n",
       "      <td>20.34</td>\n",
       "      <td>2010-12</td>\n",
       "    </tr>\n",
       "    <tr>\n",
       "      <th>2010-12-01 08:26:00</th>\n",
       "      <td>536365</td>\n",
       "      <td>84029E</td>\n",
       "      <td>red woolly hottie white heart.</td>\n",
       "      <td>6</td>\n",
       "      <td>2010-12-01 08:26:00</td>\n",
       "      <td>3.39</td>\n",
       "      <td>17850</td>\n",
       "      <td>United Kingdom</td>\n",
       "      <td>20.34</td>\n",
       "      <td>2010-12</td>\n",
       "    </tr>\n",
       "  </tbody>\n",
       "</table>\n",
       "</div>"
      ],
      "text/plain": [
       "                    InvoiceNo StockCode                          Description  \\\n",
       "InvoiceDate                                                                    \n",
       "2010-12-01 08:26:00    536365    85123A   white hanging heart t-light holder   \n",
       "2010-12-01 08:26:00    536365     71053                  white metal lantern   \n",
       "2010-12-01 08:26:00    536365    84406B       cream cupid hearts coat hanger   \n",
       "2010-12-01 08:26:00    536365    84029G  knitted union flag hot water bottle   \n",
       "2010-12-01 08:26:00    536365    84029E       red woolly hottie white heart.   \n",
       "\n",
       "                     Quantity         InvoiceDate  UnitPrice  CustomerID  \\\n",
       "InvoiceDate                                                                \n",
       "2010-12-01 08:26:00         6 2010-12-01 08:26:00       2.55       17850   \n",
       "2010-12-01 08:26:00         6 2010-12-01 08:26:00       3.39       17850   \n",
       "2010-12-01 08:26:00         8 2010-12-01 08:26:00       2.75       17850   \n",
       "2010-12-01 08:26:00         6 2010-12-01 08:26:00       3.39       17850   \n",
       "2010-12-01 08:26:00         6 2010-12-01 08:26:00       3.39       17850   \n",
       "\n",
       "                            Country  Revenue InvoiceMonth  \n",
       "InvoiceDate                                                \n",
       "2010-12-01 08:26:00  United Kingdom    15.30      2010-12  \n",
       "2010-12-01 08:26:00  United Kingdom    20.34      2010-12  \n",
       "2010-12-01 08:26:00  United Kingdom    22.00      2010-12  \n",
       "2010-12-01 08:26:00  United Kingdom    20.34      2010-12  \n",
       "2010-12-01 08:26:00  United Kingdom    20.34      2010-12  "
      ]
     },
<<<<<<< HEAD
     "execution_count": 37,
=======
     "execution_count": 38,
>>>>>>> 0e56f8f999e91aa0e6b11b0ed3da6fbbe8392dba
     "metadata": {},
     "output_type": "execute_result"
    }
   ],
   "source": [
    "UK_sales.head()"
   ]
  },
  {
   "cell_type": "code",
<<<<<<< HEAD
   "execution_count": 38,
=======
   "execution_count": 39,
>>>>>>> 0e56f8f999e91aa0e6b11b0ed3da6fbbe8392dba
   "metadata": {
    "scrolled": false
   },
   "outputs": [
    {
     "data": {
      "text/plain": [
       "<AxesSubplot:xlabel='InvoiceMonth'>"
      ]
     },
<<<<<<< HEAD
     "execution_count": 38,
=======
     "execution_count": 39,
>>>>>>> 0e56f8f999e91aa0e6b11b0ed3da6fbbe8392dba
     "metadata": {},
     "output_type": "execute_result"
    },
    {
     "data": {
      "image/png": "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\n",
      "text/plain": [
       "<Figure size 1152x432 with 1 Axes>"
      ]
     },
     "metadata": {},
     "output_type": "display_data"
    }
   ],
   "source": [
    "# group the total revenue by months and divide it by the number of orders per month using the divide method\n",
    "aov = UK_sales.groupby(UK_sales['InvoiceMonth'])['Revenue'].sum(). \\\n",
    "    divide(UK_sales.groupby(UK_sales['InvoiceMonth'])['InvoiceNo'].nunique())\n",
    "aov.plot(color = 'purple')"
   ]
  },
  {
   "cell_type": "markdown",
   "metadata": {},
   "source": [
    "Preparing our final data for prediction modelling "
   ]
  },
  {
   "cell_type": "code",
<<<<<<< HEAD
   "execution_count": 39,
=======
   "execution_count": 40,
>>>>>>> 0e56f8f999e91aa0e6b11b0ed3da6fbbe8392dba
   "metadata": {
    "scrolled": true
   },
   "outputs": [
    {
     "data": {
      "text/html": [
       "<div>\n",
       "<style scoped>\n",
       "    .dataframe tbody tr th:only-of-type {\n",
       "        vertical-align: middle;\n",
       "    }\n",
       "\n",
       "    .dataframe tbody tr th {\n",
       "        vertical-align: top;\n",
       "    }\n",
       "\n",
       "    .dataframe thead th {\n",
       "        text-align: right;\n",
       "    }\n",
       "</style>\n",
       "<table border=\"1\" class=\"dataframe\">\n",
       "  <thead>\n",
       "    <tr style=\"text-align: right;\">\n",
       "      <th></th>\n",
       "      <th>TotalSum</th>\n",
       "      <th>Year</th>\n",
       "      <th>Month</th>\n",
       "    </tr>\n",
       "  </thead>\n",
       "  <tbody>\n",
       "    <tr>\n",
       "      <th>0</th>\n",
       "      <td>483799.740</td>\n",
       "      <td>2010</td>\n",
       "      <td>12</td>\n",
       "    </tr>\n",
       "    <tr>\n",
       "      <th>1</th>\n",
       "      <td>351981.280</td>\n",
       "      <td>2011</td>\n",
       "      <td>01</td>\n",
       "    </tr>\n",
       "    <tr>\n",
       "      <th>2</th>\n",
       "      <td>348853.630</td>\n",
       "      <td>2011</td>\n",
       "      <td>02</td>\n",
       "    </tr>\n",
       "    <tr>\n",
       "      <th>3</th>\n",
       "      <td>456917.870</td>\n",
       "      <td>2011</td>\n",
       "      <td>03</td>\n",
       "    </tr>\n",
       "    <tr>\n",
       "      <th>4</th>\n",
       "      <td>376744.411</td>\n",
       "      <td>2011</td>\n",
       "      <td>04</td>\n",
       "    </tr>\n",
       "  </tbody>\n",
       "</table>\n",
       "</div>"
      ],
      "text/plain": [
       "     TotalSum  Year Month\n",
       "0  483799.740  2010    12\n",
       "1  351981.280  2011    01\n",
       "2  348853.630  2011    02\n",
       "3  456917.870  2011    03\n",
       "4  376744.411  2011    04"
      ]
     },
<<<<<<< HEAD
     "execution_count": 39,
=======
     "execution_count": 40,
>>>>>>> 0e56f8f999e91aa0e6b11b0ed3da6fbbe8392dba
     "metadata": {},
     "output_type": "execute_result"
    }
   ],
   "source": [
    "sales_predict = UK_sales.groupby(UK_sales['InvoiceMonth']).agg({'Revenue': 'sum'}).rename(columns={'Revenue': 'TotalSum'}).reset_index()\n",
    "sales_predict[['Year','Month']] = sales_predict['InvoiceMonth'].str.split('-', expand=True)\n",
    "sales_predict = sales_predict[['TotalSum', 'Year', 'Month']]\n",
    "sales_predict.head()"
   ]
  },
  {
   "cell_type": "code",
<<<<<<< HEAD
   "execution_count": 40,
=======
   "execution_count": 41,
>>>>>>> 0e56f8f999e91aa0e6b11b0ed3da6fbbe8392dba
   "metadata": {
    "scrolled": false
   },
   "outputs": [
    {
     "data": {
      "text/plain": [
       "TotalSum    float64\n",
       "Year         object\n",
       "Month        object\n",
       "dtype: object"
      ]
     },
<<<<<<< HEAD
     "execution_count": 40,
=======
     "execution_count": 41,
>>>>>>> 0e56f8f999e91aa0e6b11b0ed3da6fbbe8392dba
     "metadata": {},
     "output_type": "execute_result"
    }
   ],
   "source": [
    "sales_predict.dtypes"
   ]
  },
  {
   "cell_type": "code",
<<<<<<< HEAD
   "execution_count": 41,
=======
   "execution_count": 42,
>>>>>>> 0e56f8f999e91aa0e6b11b0ed3da6fbbe8392dba
   "metadata": {},
   "outputs": [],
   "source": [
    "sales_predict.Year = sales_predict.Year.astype('int64')\n",
    "sales_predict.Month = sales_predict.Month.astype('int64')\n",
    "sales_predict.TotalSum = sales_predict.TotalSum.astype('int64')"
   ]
  },
  {
   "cell_type": "code",
<<<<<<< HEAD
   "execution_count": 42,
=======
   "execution_count": 43,
>>>>>>> 0e56f8f999e91aa0e6b11b0ed3da6fbbe8392dba
   "metadata": {},
   "outputs": [
    {
     "data": {
      "text/html": [
       "<div>\n",
       "<style scoped>\n",
       "    .dataframe tbody tr th:only-of-type {\n",
       "        vertical-align: middle;\n",
       "    }\n",
       "\n",
       "    .dataframe tbody tr th {\n",
       "        vertical-align: top;\n",
       "    }\n",
       "\n",
       "    .dataframe thead th {\n",
       "        text-align: right;\n",
       "    }\n",
       "</style>\n",
       "<table border=\"1\" class=\"dataframe\">\n",
       "  <thead>\n",
       "    <tr style=\"text-align: right;\">\n",
       "      <th></th>\n",
       "      <th>TotalSum</th>\n",
       "      <th>Year</th>\n",
       "      <th>Month</th>\n",
       "    </tr>\n",
       "  </thead>\n",
       "  <tbody>\n",
       "    <tr>\n",
       "      <th>0</th>\n",
       "      <td>483799</td>\n",
       "      <td>2010</td>\n",
       "      <td>12</td>\n",
       "    </tr>\n",
       "    <tr>\n",
       "      <th>1</th>\n",
       "      <td>351981</td>\n",
       "      <td>2011</td>\n",
       "      <td>1</td>\n",
       "    </tr>\n",
       "    <tr>\n",
       "      <th>2</th>\n",
       "      <td>348853</td>\n",
       "      <td>2011</td>\n",
       "      <td>2</td>\n",
       "    </tr>\n",
       "    <tr>\n",
       "      <th>3</th>\n",
       "      <td>456917</td>\n",
       "      <td>2011</td>\n",
       "      <td>3</td>\n",
       "    </tr>\n",
       "    <tr>\n",
       "      <th>4</th>\n",
       "      <td>376744</td>\n",
       "      <td>2011</td>\n",
       "      <td>4</td>\n",
       "    </tr>\n",
       "    <tr>\n",
       "      <th>5</th>\n",
       "      <td>525573</td>\n",
       "      <td>2011</td>\n",
       "      <td>5</td>\n",
       "    </tr>\n",
       "    <tr>\n",
       "      <th>6</th>\n",
       "      <td>472509</td>\n",
       "      <td>2011</td>\n",
       "      <td>6</td>\n",
       "    </tr>\n",
       "    <tr>\n",
       "      <th>7</th>\n",
       "      <td>461147</td>\n",
       "      <td>2011</td>\n",
       "      <td>7</td>\n",
       "    </tr>\n",
       "    <tr>\n",
       "      <th>8</th>\n",
       "      <td>477008</td>\n",
       "      <td>2011</td>\n",
       "      <td>8</td>\n",
       "    </tr>\n",
       "    <tr>\n",
       "      <th>9</th>\n",
       "      <td>776529</td>\n",
       "      <td>2011</td>\n",
       "      <td>9</td>\n",
       "    </tr>\n",
       "    <tr>\n",
       "      <th>10</th>\n",
       "      <td>782777</td>\n",
       "      <td>2011</td>\n",
       "      <td>10</td>\n",
       "    </tr>\n",
       "    <tr>\n",
       "      <th>11</th>\n",
       "      <td>956109</td>\n",
       "      <td>2011</td>\n",
       "      <td>11</td>\n",
       "    </tr>\n",
       "    <tr>\n",
       "      <th>12</th>\n",
       "      <td>297920</td>\n",
       "      <td>2011</td>\n",
       "      <td>12</td>\n",
       "    </tr>\n",
       "  </tbody>\n",
       "</table>\n",
       "</div>"
      ],
      "text/plain": [
       "    TotalSum  Year  Month\n",
       "0     483799  2010     12\n",
       "1     351981  2011      1\n",
       "2     348853  2011      2\n",
       "3     456917  2011      3\n",
       "4     376744  2011      4\n",
       "5     525573  2011      5\n",
       "6     472509  2011      6\n",
       "7     461147  2011      7\n",
       "8     477008  2011      8\n",
       "9     776529  2011      9\n",
       "10    782777  2011     10\n",
       "11    956109  2011     11\n",
       "12    297920  2011     12"
      ]
     },
<<<<<<< HEAD
     "execution_count": 42,
=======
     "execution_count": 43,
>>>>>>> 0e56f8f999e91aa0e6b11b0ed3da6fbbe8392dba
     "metadata": {},
     "output_type": "execute_result"
    }
   ],
   "source": [
    "sales_predict"
   ]
  },
  {
   "cell_type": "markdown",
   "metadata": {},
   "source": [
    "# E-Commerce: Predicting Sales"
   ]
  },
  {
   "cell_type": "markdown",
   "metadata": {},
   "source": [
    "Predicting sales based on \"Year\" and \"Month\" features using linear regression method "
   ]
  },
  {
   "cell_type": "code",
<<<<<<< HEAD
   "execution_count": 60,
=======
   "execution_count": 44,
>>>>>>> 0e56f8f999e91aa0e6b11b0ed3da6fbbe8392dba
   "metadata": {},
   "outputs": [],
   "source": [
    "from sklearn.linear_model import LinearRegression\n",
    "from sklearn.model_selection import train_test_split"
   ]
  },
  {
   "cell_type": "code",
<<<<<<< HEAD
   "execution_count": 61,
=======
   "execution_count": 45,
>>>>>>> 0e56f8f999e91aa0e6b11b0ed3da6fbbe8392dba
   "metadata": {},
   "outputs": [],
   "source": [
    "X = sales_predict[['Year', 'Month']] # features \n",
    "y = sales_predict['TotalSum'] # dependent variable"
   ]
  },
  {
   "cell_type": "code",
<<<<<<< HEAD
   "execution_count": 82,
=======
   "execution_count": 46,
>>>>>>> 0e56f8f999e91aa0e6b11b0ed3da6fbbe8392dba
   "metadata": {},
   "outputs": [],
   "source": [
    "X_train, X_test, y_train, y_test = train_test_split(X, y, test_size=0.30, random_state=42) "
   ]
  },
  {
   "cell_type": "code",
<<<<<<< HEAD
   "execution_count": 83,
=======
   "execution_count": 47,
>>>>>>> 0e56f8f999e91aa0e6b11b0ed3da6fbbe8392dba
   "metadata": {},
   "outputs": [
    {
     "data": {
      "text/plain": [
       "LinearRegression()"
      ]
     },
<<<<<<< HEAD
     "execution_count": 83,
=======
     "execution_count": 47,
>>>>>>> 0e56f8f999e91aa0e6b11b0ed3da6fbbe8392dba
     "metadata": {},
     "output_type": "execute_result"
    }
   ],
   "source": [
    "model = LinearRegression()\n",
    "model.fit(X_train, y_train)"
   ]
  },
  {
   "cell_type": "code",
<<<<<<< HEAD
   "execution_count": 84,
=======
   "execution_count": 48,
>>>>>>> 0e56f8f999e91aa0e6b11b0ed3da6fbbe8392dba
   "metadata": {},
   "outputs": [
    {
     "data": {
      "text/plain": [
       "array([    0.        , 13043.40794979])"
      ]
     },
<<<<<<< HEAD
     "execution_count": 84,
=======
     "execution_count": 48,
>>>>>>> 0e56f8f999e91aa0e6b11b0ed3da6fbbe8392dba
     "metadata": {},
     "output_type": "execute_result"
    }
   ],
   "source": [
    "model.coef_"
   ]
  },
  {
   "cell_type": "code",
<<<<<<< HEAD
   "execution_count": 85,
=======
   "execution_count": 49,
>>>>>>> 0e56f8f999e91aa0e6b11b0ed3da6fbbe8392dba
   "metadata": {},
   "outputs": [
    {
     "data": {
      "text/plain": [
       "380250.07"
      ]
     },
<<<<<<< HEAD
     "execution_count": 85,
=======
     "execution_count": 49,
>>>>>>> 0e56f8f999e91aa0e6b11b0ed3da6fbbe8392dba
     "metadata": {},
     "output_type": "execute_result"
    }
   ],
   "source": [
    "round(model.intercept_,2)"
   ]
  },
  {
   "cell_type": "code",
<<<<<<< HEAD
   "execution_count": 86,
   "metadata": {},
   "outputs": [],
   "source": [
    "from sklearn.metrics import mean_squared_error\n",
    "from math import sqrt"
   ]
  },
  {
   "cell_type": "code",
   "execution_count": 87,
=======
   "execution_count": 50,
>>>>>>> 0e56f8f999e91aa0e6b11b0ed3da6fbbe8392dba
   "metadata": {},
   "outputs": [
    {
     "data": {
      "text/plain": [
<<<<<<< HEAD
       "127943.50736873513"
      ]
     },
     "execution_count": 87,
=======
       "array([523727.55439331, 497640.73849372, 536770.9623431 , 484597.33054393])"
      ]
     },
     "execution_count": 50,
>>>>>>> 0e56f8f999e91aa0e6b11b0ed3da6fbbe8392dba
     "metadata": {},
     "output_type": "execute_result"
    }
   ],
   "source": [
<<<<<<< HEAD
    "# evaluate our model using RMSE metric \n",
    "RMSE = sqrt(mean_squared_error(y_train, model.predict(X_train)))\n",
    "RMSE"
=======
    "y_predicted = model.predict(X_test)\n",
    "y_predicted "
>>>>>>> 0e56f8f999e91aa0e6b11b0ed3da6fbbe8392dba
   ]
  },
  {
   "cell_type": "code",
<<<<<<< HEAD
   "execution_count": 88,
   "metadata": {},
   "outputs": [
    {
     "data": {
      "text/plain": [
       "258648.41176948656"
      ]
     },
     "execution_count": 88,
     "metadata": {},
     "output_type": "execute_result"
    }
   ],
   "source": [
    "RMSE = sqrt(mean_squared_error(y_test, model.predict(X_test)))\n",
    "RMSE"
=======
   "execution_count": 51,
   "metadata": {},
   "outputs": [],
   "source": [
    "from sklearn.metrics import mean_squared_error\n",
    "from math import sqrt"
>>>>>>> 0e56f8f999e91aa0e6b11b0ed3da6fbbe8392dba
   ]
  },
  {
   "cell_type": "code",
<<<<<<< HEAD
   "execution_count": 90,
   "metadata": {},
   "outputs": [],
   "source": [
    "X_future = np.array([[2011,12], [2012,1], [2012,2]])"
=======
   "execution_count": 52,
   "metadata": {},
   "outputs": [],
   "source": [
    "y_actual = y_test"
>>>>>>> 0e56f8f999e91aa0e6b11b0ed3da6fbbe8392dba
   ]
  },
  {
   "cell_type": "code",
<<<<<<< HEAD
   "execution_count": 91,
=======
   "execution_count": 53,
>>>>>>> 0e56f8f999e91aa0e6b11b0ed3da6fbbe8392dba
   "metadata": {},
   "outputs": [
    {
     "data": {
      "text/plain": [
<<<<<<< HEAD
       "array([536770.9623431 , 393293.4748954 , 406336.88284519])"
      ]
     },
     "execution_count": 91,
=======
       "258648.41176948656"
      ]
     },
     "execution_count": 53,
>>>>>>> 0e56f8f999e91aa0e6b11b0ed3da6fbbe8392dba
     "metadata": {},
     "output_type": "execute_result"
    }
   ],
   "source": [
<<<<<<< HEAD
    "y_future = model.predict(X_future)\n",
    "y_future"
   ]
  },
  {
   "cell_type": "markdown",
   "metadata": {},
   "source": [
    "Conclusion   \n",
    "\n",
    "To predict revenue for the next 3 months a linear regression model was applied. RMSE metric showed that, on average, a model could be erroneous by £ 258,648. Having made a prediction for the period 2011.12 - 2012.02, we found out that the sales volumes are approximately equal to the same months last year. This means that, in general, the company works stable. At the beginning of next year a sharp drop is not expected. Entering a new sales market can help increase sales."
=======
    "# Расчет среднего квадрата ошибки (MSE)\n",
    "rms = sqrt(mean_squared_error(y_actual, y_predicted))\n",
    "rms"
>>>>>>> 0e56f8f999e91aa0e6b11b0ed3da6fbbe8392dba
   ]
  }
 ],
 "metadata": {
  "kernelspec": {
   "display_name": "Python 3",
   "language": "python",
   "name": "python3"
  },
  "language_info": {
   "codemirror_mode": {
    "name": "ipython",
    "version": 3
   },
   "file_extension": ".py",
   "mimetype": "text/x-python",
   "name": "python",
   "nbconvert_exporter": "python",
   "pygments_lexer": "ipython3",
   "version": "3.8.5"
  }
 },
 "nbformat": 4,
 "nbformat_minor": 4
}
